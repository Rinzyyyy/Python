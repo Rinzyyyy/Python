{
 "cells": [
  {
   "cell_type": "code",
   "execution_count": null,
   "id": "fba5ce27",
   "metadata": {},
   "outputs": [],
   "source": [
    "import requests\n",
    "\n",
    "#line notify 權杖\n",
    "token='ZHE56trkmvZYv0KBNowGlVzj28fkcgzj6X0URat9Al7'\n",
    "\n",
    "#要發送的訊息\n",
    "message='qqq'\n",
    "\n",
    "#要傳送的圖片檔案\n",
    "i=open('/Users/xuan/python/imgdownload/伊莉莎白14.jpg','rb')\n",
    "f={ 'imageFile':i }\n",
    "\n",
    "#HTTP標頭參數與資料\n",
    "h={\"Authorization\":\"Bearer \"+token}\n",
    "d={\"message\":message}\n",
    "\n",
    "#以requests發送post請求\n",
    "requests.post(\"https://notify-api.line.me/api/notify\",headers=h,data=d,files=f)"
   ]
  },
  {
   "cell_type": "code",
   "execution_count": 29,
   "id": "cec2c931",
   "metadata": {},
   "outputs": [
    {
     "name": "stdout",
     "output_type": "stream",
     "text": [
      " * Serving Flask app \"__main__\" (lazy loading)\n",
      " * Environment: production\n",
      "\u001b[31m   WARNING: This is a development server. Do not use it in a production deployment.\u001b[0m\n",
      "\u001b[2m   Use a production WSGI server instead.\u001b[0m\n",
      " * Debug mode: off\n"
     ]
    },
    {
     "name": "stderr",
     "output_type": "stream",
     "text": [
      " * Running on http://127.0.0.1:3690/ (Press CTRL+C to quit)\n"
     ]
    },
    {
     "name": "stdout",
     "output_type": "stream",
     "text": [
      "{'destination': 'Ud20975a7c98ddd9220534ff4b141d944', 'events': [{'type': 'message', 'message': {'type': 'text', 'id': '17448264513229', 'text': 'a'}, 'webhookEventId': '01GPE25Q5PGMX8RWVHBXJYXCN4', 'deliveryContext': {'isRedelivery': False}, 'timestamp': 1673361808337, 'source': {'type': 'user', 'userId': 'U2b306051501d386e8ecac5c3fb0d95ca'}, 'replyToken': 'e05d577a13d8458fa6ae5fd5ba989d9b', 'mode': 'active'}]}\n"
     ]
    },
    {
     "name": "stderr",
     "output_type": "stream",
     "text": [
      "127.0.0.1 - - [10/Jan/2023 22:43:28] \"POST /verify HTTP/1.1\" 200 -\n"
     ]
    }
   ],
   "source": [
    "\n",
    "from flask import Flask, request\n",
    "from linebot import LineBotApi, WebhookHandler\n",
    "from linebot.models import FlexSendMessage, TextSendMessage, ImageSendMessage\n",
    "\n",
    "app = Flask(__name__)\n",
    "\n",
    "# LINE 聊天機器人的基本資料\n",
    "line_bot_api = LineBotApi('YEIXdpxrnaoFk0Fs89uzMBv6b6B/ReCcVJMc3kJDY8LyeaORBDqDTMSaVV2AsaccfLYFdtMkFa4JkjKYABQSN+d+BuBfgNoyfHW7cdvdvtgE3bzPkuA9mkqsTmfGc2kwaWiS1fC2psX5eZtFvVRdNwdB04t89/1O/w1cDnyilFU=')\n",
    "@app.route(\"/verify\", methods=['POST'])\n",
    "\n",
    "def verify():\n",
    "    data = request.get_json()\n",
    "    print(data)\n",
    "\n",
    "# 回傳文字    \n",
    "    line_bot_api.reply_message(\n",
    "        data['events'][0]['replyToken'],\n",
    "        TextSendMessage(text=\"hi~\")\n",
    "    )\n",
    "\n",
    "\n",
    "# #回傳圖片\n",
    "#     line_bot_api.reply_message(\n",
    "#         data['events'][0]['replyToken'],\n",
    "#         ImageSendMessage(original_content_url='https://i.imgur.com/1I8t244.png',\n",
    "#                          preview_image_url='https://i.imgur.com/1I8t244.png')\n",
    "#     )\n",
    "\n",
    "#回傳bubble\n",
    "#     if data['events'][0]['message']['text']=='a' :\n",
    "        \n",
    "#         line_bot_api.reply_message(\n",
    "#             data['events'][0]['replyToken'],\n",
    "#             FlexSendMessage(\n",
    "#                 alt_text='hello',\n",
    "#                 contents=#bubble json\n",
    " \n",
    " \n",
    "    \n",
    "    return 'OK',200\n",
    "\n",
    "\n",
    "if __name__ == \"__main__\":\n",
    "    app.run(port=3690)"
   ]
  },
  {
   "cell_type": "code",
   "execution_count": null,
   "id": "6225fab1",
   "metadata": {},
   "outputs": [],
   "source": [
    "pip install line-bot-sdk"
   ]
  },
  {
   "cell_type": "code",
   "execution_count": null,
   "id": "cf78110a",
   "metadata": {},
   "outputs": [],
   "source": []
  }
 ],
 "metadata": {
  "kernelspec": {
   "display_name": "Python 3 (ipykernel)",
   "language": "python",
   "name": "python3"
  },
  "language_info": {
   "codemirror_mode": {
    "name": "ipython",
    "version": 3
   },
   "file_extension": ".py",
   "mimetype": "text/x-python",
   "name": "python",
   "nbconvert_exporter": "python",
   "pygments_lexer": "ipython3",
   "version": "3.9.15"
  }
 },
 "nbformat": 4,
 "nbformat_minor": 5
}
