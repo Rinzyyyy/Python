{
 "cells": [
  {
   "cell_type": "code",
   "execution_count": 1,
   "id": "99ce4d42",
   "metadata": {},
   "outputs": [
    {
     "name": "stdout",
     "output_type": "stream",
     "text": [
      "2023-01-16 11:05:03.938068\n"
     ]
    }
   ],
   "source": [
    "import datetime #顯示當時時間 大datetime裡面的dateime裡面的now\n",
    "print(datetime.datetime.now())"
   ]
  },
  {
   "cell_type": "code",
   "execution_count": 2,
   "id": "05993c64",
   "metadata": {},
   "outputs": [
    {
     "name": "stdout",
     "output_type": "stream",
     "text": [
      "2023-01-16 11:05:10.681981\n"
     ]
    }
   ],
   "source": [
    "from datetime import datetime  #顯示當時時間 宣告直接從大datetime裡面的datetime開始\n",
    "print(datetime.now())"
   ]
  },
  {
   "cell_type": "code",
   "execution_count": 12,
   "id": "c00a8b39",
   "metadata": {},
   "outputs": [
    {
     "name": "stdout",
     "output_type": "stream",
     "text": [
      "2023-01-16 \n"
     ]
    }
   ],
   "source": [
    "import datetime as dt #顯示當時時間 將大dateime改名為dt\n",
    "\n",
    "date=str(dt.datetime.now())\n",
    "print(date[:11])\n"
   ]
  },
  {
   "cell_type": "code",
   "execution_count": 4,
   "id": "43e077c6",
   "metadata": {},
   "outputs": [
    {
     "name": "stdout",
     "output_type": "stream",
     "text": [
      "2023-01-16 11:05:18.611852\n"
     ]
    }
   ],
   "source": [
    "from datetime import datetime as dt #顯示當時時間 從裡面的dateime開始，並改名為dt\n",
    "print(dt.now())"
   ]
  },
  {
   "cell_type": "code",
   "execution_count": 9,
   "id": "80e4ce33",
   "metadata": {},
   "outputs": [
    {
     "data": {
      "text/plain": [
       "datetime.datetime(2023, 1, 16, 11, 16, 49, 442572)"
      ]
     },
     "execution_count": 9,
     "metadata": {},
     "output_type": "execute_result"
    }
   ],
   "source": [
    "import sys\n",
    "from datetime import datetime \n",
    "\n",
    "del datetime\n",
    "\n",
    "sys.modules[\"datetime\"].datetime.now()\n",
    "\n"
   ]
  },
  {
   "cell_type": "code",
   "execution_count": null,
   "id": "39263669",
   "metadata": {},
   "outputs": [],
   "source": [
    "{\"name\": [] ,\"adjustment\": [] }\n",
    "name = \"rose\"\n",
    "adjustment = \"ugly\"\n",
    "print(\"{} is an {} flower\".format(name,adjustment))\n"
   ]
  },
  {
   "cell_type": "code",
   "execution_count": null,
   "id": "3c2127d6",
   "metadata": {},
   "outputs": [],
   "source": [
    "dic={\"name\":[\"he\",\"geranium\",\"lavender\"],\"adjustment\":[\"noise\",\"great\",\"so-so\"]}\n",
    "for a in range(3) :\n",
    "    print(\"{} is a {} object \".format(dic[\"name\"][a],dic[\"adjustment\"][a]))\n",
    "    print (a)"
   ]
  },
  {
   "cell_type": "code",
   "execution_count": null,
   "id": "b0efed28",
   "metadata": {},
   "outputs": [],
   "source": [
    "a = range (4)  #開始為0, 到4的整數 \n",
    "\n",
    "print( list (a) )\n",
    "\n",
    "print( list [a] )\n",
    "\n",
    "print(a) \n",
    "\n",
    "s = range(3,10)  #開始 ，停止\n",
    "print( list(s) )\n",
    "\n",
    "w = range(0,10,3)  #開始，停止，間隔\n",
    "print( list(w) )\n",
    "\n",
    "import numpy as np\n",
    "f = np.arange (0,3,0.5)  #開始，停止，間隔\n",
    "print( list(f) )\n",
    "\n",
    "\n"
   ]
  },
  {
   "cell_type": "code",
   "execution_count": null,
   "id": "479bdce0",
   "metadata": {},
   "outputs": [],
   "source": [
    "x = range(1,10) \n",
    "for c in x :\n",
    "    print(\"\")\n",
    "    for e in x :\n",
    "        print(\"{}*{}={:^}\".format(c,e,c*e),end=\" \\t \")"
   ]
  },
  {
   "cell_type": "code",
   "execution_count": null,
   "id": "e5eb730b",
   "metadata": {},
   "outputs": [],
   "source": [
    "for i in range(1,10):\n",
    "    print()\n",
    "    for j in range(1,10):\n",
    "        print(f'{i}*{j}=',i*j,end='\\t')"
   ]
  },
  {
   "cell_type": "code",
   "execution_count": null,
   "id": "4ebb8184",
   "metadata": {},
   "outputs": [],
   "source": [
    "for i in range(1,10):\n",
    "    for j in range(1,10):\n",
    "        print('{}*{}='. format (i,j) , i*j , end=\" \\t \" ,sep=\" \")\n",
    "        if j==9:\n",
    "            print()"
   ]
  },
  {
   "cell_type": "code",
   "execution_count": null,
   "id": "a9ccf8b2",
   "metadata": {},
   "outputs": [],
   "source": [
    "x = range(1,10) \n",
    "for c in x :\n",
    "    print(c)\n",
    "    r=[]\n",
    "    for e in x :\n",
    "        g=c*e\n",
    "        r.append(g)\n",
    "    print(r)"
   ]
  },
  {
   "cell_type": "code",
   "execution_count": null,
   "id": "aa6663b1",
   "metadata": {},
   "outputs": [],
   "source": [
    "x=252\n",
    "y=105\n",
    "while y>0:\n",
    "    x,y=y,x%y\n",
    "    print(\"x\",x)\n",
    "    print(\"y\",y)"
   ]
  },
  {
   "cell_type": "code",
   "execution_count": null,
   "id": "8db68d4f",
   "metadata": {},
   "outputs": [],
   "source": [
    "def f(x,y) :\n",
    "\n",
    "    while y>0:\n",
    "        x,y=y,x%y\n",
    "\n",
    "        if y==0 :\n",
    "            print(\"最大公因數\",x)\n",
    "            \n",
    "f(int(input(\"x: \")),int(input(\"y: \")))"
   ]
  },
  {
   "cell_type": "code",
   "execution_count": null,
   "id": "9a835695",
   "metadata": {},
   "outputs": [],
   "source": [
    "x=252\n",
    "y=105\n",
    "\n",
    "while x>0 and y>0:\n",
    "    if x>y:\n",
    "        x=x%y\n",
    "    else:\n",
    "        y=y%x\n",
    "        \n",
    "if x==0:\n",
    "    print(y)\n",
    "else:\n",
    "    print(x)\n",
    "\n",
    "\n"
   ]
  },
  {
   "cell_type": "code",
   "execution_count": null,
   "id": "512b3c9c",
   "metadata": {},
   "outputs": [],
   "source": [
    "def f(x,y) :\n",
    "\n",
    "    while y>0:\n",
    "        x,y=y,x%y\n",
    "\n",
    "        if y==0 :\n",
    "            print(\"最大公因數\",x)\n",
    "            \n",
    "f(int(input(\"x: \")),int(input(\"y: \")))"
   ]
  },
  {
   "cell_type": "code",
   "execution_count": null,
   "id": "a25d0dec",
   "metadata": {},
   "outputs": [],
   "source": [
    "x=105\n",
    "y=252\n",
    "c=x%y\n",
    "w=x/y\n",
    "d=y%x\n",
    "print(int(w))\n",
    "print(c)\n",
    "print(d)"
   ]
  },
  {
   "cell_type": "code",
   "execution_count": null,
   "id": "74e6dfb7",
   "metadata": {},
   "outputs": [],
   "source": [
    "x=252\n",
    "y=105\n",
    "while y: #當y=0=False\n",
    "    x,y=y,x%y\n",
    "print(x)"
   ]
  },
  {
   "cell_type": "code",
   "execution_count": 2,
   "id": "1588d747",
   "metadata": {},
   "outputs": [
    {
     "name": "stdout",
     "output_type": "stream",
     "text": [
      "x,y:1 5\n",
      "<class 'int'> <class 'int'>\n",
      "1\n"
     ]
    }
   ],
   "source": [
    "a,b=map (int,input(\"x,y:\").split()) #map(函數,目標集合) ＃spilt函數為input以空白鍵為間隔一次輸入兩個值的命令\n",
    "print(type(a),type(1))\n",
    "\n",
    "while b!=0 :\n",
    "       \n",
    "    a,b=b,a%b\n",
    "       \n",
    "print(a)\n",
    "    "
   ]
  },
  {
   "cell_type": "code",
   "execution_count": null,
   "id": "84787f12",
   "metadata": {},
   "outputs": [],
   "source": [
    "a=input(\"x,y:\").split()"
   ]
  },
  {
   "cell_type": "code",
   "execution_count": null,
   "id": "235ff2b7",
   "metadata": {},
   "outputs": [
    {
     "name": "stdout",
     "output_type": "stream",
     "text": [
      "YOU\n"
     ]
    }
   ],
   "source": [
    "rock = '''\n",
    "      _______\n",
    "---'     ____)\n",
    "          (_____)\n",
    "          (_____)\n",
    "          (____)\n",
    "---.__(___)\n",
    "'''\n",
    "\n",
    "paper = '''\n",
    "      _______\n",
    "---'     ____)____\n",
    "               ______)\n",
    "              _______)\n",
    "            _______)\n",
    "---.__________)\n",
    "'''\n",
    "\n",
    "scissors = '''\n",
    "      _______\n",
    "---'     ____)____\n",
    "               ______)\n",
    "         __________)\n",
    "          (____)\n",
    "---.__(___)\n",
    "'''\n",
    "\n",
    "listt=[rock,paper,scissors]\n",
    "dic={\"rock\":0,\"paper\":1,\"scissors\":2}\n",
    "n=0\n",
    "L=0\n",
    "p=0\n",
    "\n",
    "\n",
    "while True :\n",
    "    while n<2 and L<2 and p<3 :        \n",
    "\n",
    "            print(\"YOU\")\n",
    "            q=input(\"\")\n",
    "            r=dic[q]\n",
    "            rr=int(r)\n",
    "            print(listt [int(r)] )\n",
    "\n",
    "\n",
    "            import random\n",
    "            x=random.randint(0,2)\n",
    "            print(\"-----vs-----\")\n",
    "            qq=list( dic.keys() ) [list (dic.values() ).index(x)] \n",
    "            print(\"\")\n",
    "            print(\"COMPUTER\")\n",
    "            print(qq)\n",
    "            print(listt[x] )\n",
    "\n",
    "\n",
    "\n",
    "            if (rr!=0 and rr>x) or (rr==0 and x==2) :\n",
    "                        n+=1\n",
    "                        print(\"win\",n)\n",
    "\n",
    "\n",
    "            elif (x!=0 and rr<x) or (x==0 and rr==2) :\n",
    "                        L+=1\n",
    "                        print(\"Lose\",L)\n",
    "\n",
    "            elif  x==rr :\n",
    "                    p+=1\n",
    "                    print(\"ground\",p)\n",
    "                    \n",
    "                        \n",
    "    q=input(\"again?\")\n",
    "    \n",
    "    if q==\"n\" or q==\"N\" :\n",
    "        print(\"bye\")\n",
    "        break\n",
    "    else :\n",
    "        n=0\n",
    "        L=0\n",
    "        p=0\n",
    "        #continue\n",
    "\n",
    "    \n",
    "\n",
    "   \n",
    "\n",
    "        \n",
    "\n",
    "\n"
   ]
  },
  {
   "cell_type": "code",
   "execution_count": null,
   "id": "027c2502",
   "metadata": {},
   "outputs": [],
   "source": [
    "dic={\"rock\":0,\"paper\":1,\"scissors\":2} #由值找key\n",
    "qq=list( dic.keys() ) [list (dic.values() ).index(0)] \n",
    "print(qq)\n"
   ]
  },
  {
   "cell_type": "code",
   "execution_count": null,
   "id": "91d47d88",
   "metadata": {},
   "outputs": [],
   "source": [
    "dic={\"rock\":0,\"paper\":1,\"scissors\":2} #由值找key\n",
    "ee=dic.items()\n",
    "print(list(ee)[0][0])\n"
   ]
  },
  {
   "cell_type": "code",
   "execution_count": null,
   "id": "b448d27a",
   "metadata": {},
   "outputs": [],
   "source": []
  }
 ],
 "metadata": {
  "kernelspec": {
   "display_name": "Python 3 (ipykernel)",
   "language": "python",
   "name": "python3"
  },
  "language_info": {
   "codemirror_mode": {
    "name": "ipython",
    "version": 3
   },
   "file_extension": ".py",
   "mimetype": "text/x-python",
   "name": "python",
   "nbconvert_exporter": "python",
   "pygments_lexer": "ipython3",
   "version": "3.9.15"
  }
 },
 "nbformat": 4,
 "nbformat_minor": 5
}
