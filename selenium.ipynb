{
 "cells": [
  {
   "cell_type": "code",
   "execution_count": 1,
   "id": "43339f19",
   "metadata": {},
   "outputs": [
    {
     "name": "stdout",
     "output_type": "stream",
     "text": [
      "Requirement already satisfied: selenium in /opt/anaconda3/lib/python3.9/site-packages (4.7.2)\n",
      "Requirement already satisfied: urllib3[socks]~=1.26 in /opt/anaconda3/lib/python3.9/site-packages (from selenium) (1.26.13)\n",
      "Requirement already satisfied: trio-websocket~=0.9 in /opt/anaconda3/lib/python3.9/site-packages (from selenium) (0.9.2)\n",
      "Requirement already satisfied: certifi>=2021.10.8 in /opt/anaconda3/lib/python3.9/site-packages (from selenium) (2022.9.24)\n",
      "Requirement already satisfied: trio~=0.17 in /opt/anaconda3/lib/python3.9/site-packages (from selenium) (0.22.0)\n",
      "Requirement already satisfied: sniffio in /opt/anaconda3/lib/python3.9/site-packages (from trio~=0.17->selenium) (1.2.0)\n",
      "Requirement already satisfied: outcome in /opt/anaconda3/lib/python3.9/site-packages (from trio~=0.17->selenium) (1.2.0)\n",
      "Requirement already satisfied: idna in /opt/anaconda3/lib/python3.9/site-packages (from trio~=0.17->selenium) (3.4)\n",
      "Requirement already satisfied: async-generator>=1.9 in /opt/anaconda3/lib/python3.9/site-packages (from trio~=0.17->selenium) (1.10)\n",
      "Requirement already satisfied: exceptiongroup>=1.0.0rc9 in /opt/anaconda3/lib/python3.9/site-packages (from trio~=0.17->selenium) (1.0.4)\n",
      "Requirement already satisfied: sortedcontainers in /opt/anaconda3/lib/python3.9/site-packages (from trio~=0.17->selenium) (2.4.0)\n",
      "Requirement already satisfied: attrs>=19.2.0 in /opt/anaconda3/lib/python3.9/site-packages (from trio~=0.17->selenium) (22.1.0)\n",
      "Requirement already satisfied: wsproto>=0.14 in /opt/anaconda3/lib/python3.9/site-packages (from trio-websocket~=0.9->selenium) (1.2.0)\n",
      "Requirement already satisfied: PySocks!=1.5.7,<2.0,>=1.5.6 in /opt/anaconda3/lib/python3.9/site-packages (from urllib3[socks]~=1.26->selenium) (1.7.1)\n",
      "Requirement already satisfied: h11<1,>=0.9.0 in /opt/anaconda3/lib/python3.9/site-packages (from wsproto>=0.14->trio-websocket~=0.9->selenium) (0.14.0)\n"
     ]
    }
   ],
   "source": [
    "!pip install selenium"
   ]
  },
  {
   "cell_type": "code",
   "execution_count": 8,
   "id": "521eaacb",
   "metadata": {},
   "outputs": [
    {
     "name": "stderr",
     "output_type": "stream",
     "text": [
      "/var/folders/d0/gstvjrv16_l_0pk52fjd4nrw0000gn/T/ipykernel_4263/1778800675.py:10: DeprecationWarning: executable_path has been deprecated, please pass in a Service object\n",
      "  driver=webdriver.Chrome(\"/Users/xuan/python/chromedriver.exe\",options=option)\n"
     ]
    }
   ],
   "source": [
    "from selenium import webdriver\n",
    "\n",
    "#關閉網頁通知\n",
    "from selenium.webdriver.chrome.options import Options\n",
    "option=webdriver.ChromeOptions()\n",
    "prefs={\"profile.default_content_setting_values\":{\"notifications\":2}} #通知設定選項：選擇第三個\n",
    "option.add_experimental_option(\"prefs\",prefs)\n",
    "\n",
    "#導入網頁 \n",
    "driver=webdriver.Chrome(\"/Users/xuan/python/chromedriver.exe\",options=option)\n",
    "driver.get(\"https://www.instagram.com\")"
   ]
  },
  {
   "cell_type": "code",
   "execution_count": 9,
   "id": "cf6d8de2",
   "metadata": {},
   "outputs": [],
   "source": [
    "from selenium.webdriver.support.wait import WebDriverWait\n",
    "from selenium.webdriver.support import expected_conditions as EC\n",
    "from selenium.webdriver.common.by import By\n",
    "\n",
    "username=WebDriverWait(driver,10).until(EC.element_to_be_clickable((By.CSS_SELECTOR,'input[name=\"username\"]')))\n",
    "username.send_keys(\"xuan0690\")\n",
    "\n",
    "code=WebDriverWait(driver,10).until(EC.element_to_be_clickable((By.CSS_SELECTOR,'input[name=\"password\"]')))\n",
    "code.send_keys(\"a0191042\")\n",
    "\n",
    "login=WebDriverWait(driver,10).until(EC.element_to_be_clickable((By.CSS_SELECTOR,'button[class=\"_acan _aiit _acap _aijb _acas _aj1-\"]')))\n",
    "login.click()\n",
    "#login.send_keys(Keys.ENTER)\n",
    "#webdriver.ActionChains(driver).send_keys(Keys.ENTTER).perform()"
   ]
  },
  {
   "cell_type": "code",
   "execution_count": null,
   "id": "47d6c1e0",
   "metadata": {},
   "outputs": [],
   "source": [
    "driver.execute_script(\"window.scrollTo(0,document.body.scrollHeight)\") #模擬滑鼠滾輪＃document.body.scrollHeight直接滑到最後(y,x)"
   ]
  },
  {
   "cell_type": "code",
   "execution_count": 12,
   "id": "cd2371a9",
   "metadata": {},
   "outputs": [
    {
     "name": "stdout",
     "output_type": "stream",
     "text": [
      "[{'domain': '.instagram.com', 'httpOnly': True, 'name': 'rur', 'path': '/', 'sameSite': 'Lax', 'secure': True, 'value': '\"EAG\\\\0541036531224\\\\0541703136860:01f74861b5efcf5e665c08f5fbd2882a37bbf7873509b293b840d457492dfbcc6eeb1b94\"'}, {'domain': '.instagram.com', 'expiry': 1672205558, 'httpOnly': True, 'name': 'shbid', 'path': '/', 'secure': True, 'value': '\"14382\\\\0541036531224\\\\0541703136758:01f7532e28854ff30c71ab1df9f8b0be3e871f399664afac94a5e532776a43fbb845ed63\"'}, {'domain': '.instagram.com', 'expiry': 1672205558, 'httpOnly': True, 'name': 'shbts', 'path': '/', 'secure': True, 'value': '\"1671600758\\\\0541036531224\\\\0541703136758:01f712dbc2d3f83200437c0db2ea83f836f7cce6b750e3a87e0bd2ae82b0873c048613d2\"'}, {'domain': '.instagram.com', 'expiry': 1703136758, 'httpOnly': True, 'name': 'sessionid', 'path': '/', 'secure': True, 'value': '1036531224%3A773FZ4cTjiqdh3%3A10%3AAYdjg8ZTgEPwoY3Y4fx-JUVMSNUeE18kQYjPw78Bng'}, {'domain': '.instagram.com', 'expiry': 1703050460, 'httpOnly': False, 'name': 'csrftoken', 'path': '/', 'secure': True, 'value': '9hanBGK2TDApqnx59OCfiwG8mK0q27Rc'}, {'domain': '.instagram.com', 'expiry': 1706160752, 'httpOnly': True, 'name': 'datr', 'path': '/', 'sameSite': 'None', 'secure': True, 'value': 'b5qiY8Cqe6UMMjBiuySLN3WJ'}, {'domain': '.instagram.com', 'expiry': 1679376860, 'httpOnly': False, 'name': 'ds_user_id', 'path': '/', 'secure': True, 'value': '1036531224'}, {'domain': '.instagram.com', 'expiry': 1703136752, 'httpOnly': True, 'name': 'ig_did', 'path': '/', 'sameSite': 'None', 'secure': True, 'value': '35F4FFA6-6629-4631-81B5-299240D9408F'}, {'domain': '.instagram.com', 'expiry': 1703136752, 'httpOnly': False, 'name': 'ig_nrcb', 'path': '/', 'secure': True, 'value': '1'}, {'domain': '.instagram.com', 'expiry': 1706160752, 'httpOnly': False, 'name': 'mid', 'path': '/', 'secure': True, 'value': 'Y6KacAAEAAFIFcqbPTwAlUgHHg3b'}, {'domain': '.instagram.com', 'expiry': 1672205558, 'httpOnly': False, 'name': 'dpr', 'path': '/', 'sameSite': 'None', 'secure': True, 'value': '2'}]\n"
     ]
    }
   ],
   "source": [
    "import json\n",
    "cookie=driver.get_cookies()\n",
    "print(cookie)\n",
    "jsoncookie=json.dumps(cookie)\n",
    "with open (\"ig.json\",\"w\") as f :\n",
    "    f.write(jsoncookie)"
   ]
  },
  {
   "cell_type": "code",
   "execution_count": null,
   "id": "84f94855",
   "metadata": {},
   "outputs": [],
   "source": []
  }
 ],
 "metadata": {
  "kernelspec": {
   "display_name": "Python 3 (ipykernel)",
   "language": "python",
   "name": "python3"
  },
  "language_info": {
   "codemirror_mode": {
    "name": "ipython",
    "version": 3
   },
   "file_extension": ".py",
   "mimetype": "text/x-python",
   "name": "python",
   "nbconvert_exporter": "python",
   "pygments_lexer": "ipython3",
   "version": "3.9.15"
  }
 },
 "nbformat": 4,
 "nbformat_minor": 5
}
