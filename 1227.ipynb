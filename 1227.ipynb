{
 "cells": [
  {
   "cell_type": "code",
   "execution_count": 53,
   "id": "ec774ca4",
   "metadata": {},
   "outputs": [
    {
     "name": "stdout",
     "output_type": "stream",
     "text": [
      "---np1---\n",
      "[[2 3 3]\n",
      " [4 5 4]]\n",
      "---np2---\n",
      "[2 4 3 4]\n",
      "----維度----\n",
      "2\n",
      "----形狀----\n",
      "(2, 3)\n",
      "----資料型別----\n",
      "int64\n",
      "int64\n"
     ]
    }
   ],
   "source": [
    "import numpy as np\n",
    "\n",
    "np1=np.array([[2,3,3],[4,5,4]])\n",
    "np2=np.array([2,4,3,4])\n",
    "\n",
    "print(\"---np1---\")\n",
    "print(np1)\n",
    "print(\"---np2---\")\n",
    "print(np2)\n",
    "\n",
    "print(\"----維度----\")\n",
    "print(np1.ndim) #維度\n",
    "print(\"----形狀----\")\n",
    "print(np1.shape) #形狀\n",
    "print(\"----資料型別----\")\n",
    "print(np1.dtype) #資料型別\n",
    "\n",
    "print(np2.dtype)\n"
   ]
  },
  {
   "cell_type": "code",
   "execution_count": null,
   "id": "c3d58815",
   "metadata": {},
   "outputs": [],
   "source": []
  },
  {
   "cell_type": "code",
   "execution_count": 11,
   "id": "8d45022b",
   "metadata": {},
   "outputs": [
    {
     "name": "stdout",
     "output_type": "stream",
     "text": [
      "[[0. 0.]\n",
      " [0. 0.]\n",
      " [0. 0.]]\n",
      "[[1 1]\n",
      " [1 1]\n",
      " [1 1]]\n"
     ]
    }
   ],
   "source": [
    "#建立填滿 0 或 1 的陣列\n",
    "\n",
    "np1=np.zeros([3,2])#([列數,欄數],dtype)\n",
    "np2=np.ones([3,2],int)\n",
    "print(np1)\n",
    "print(np2)"
   ]
  },
  {
   "cell_type": "code",
   "execution_count": 23,
   "id": "8268b36d",
   "metadata": {},
   "outputs": [
    {
     "name": "stdout",
     "output_type": "stream",
     "text": [
      "[[9 9 9 9 9]\n",
      " [9 9 9 9 9]\n",
      " [9 9 9 9 9]\n",
      " [9 9 9 9 9]]\n",
      "\n",
      "[[1. 0. 0. 0. 0.]\n",
      " [0. 1. 0. 0. 0.]\n",
      " [0. 0. 1. 0. 0.]\n",
      " [0. 0. 0. 1. 0.]\n",
      " [0. 0. 0. 0. 1.]]\n",
      "\n",
      "[[0 1 0 0 0 0]\n",
      " [0 0 1 0 0 0]\n",
      " [0 0 0 1 0 0]\n",
      " [0 0 0 0 1 0]\n",
      " [0 0 0 0 0 1]]\n"
     ]
    }
   ],
   "source": [
    "#建立填滿特定數字的陣列\n",
    "\n",
    "np1=np.full((4,5),9,int) #形狀,填充值,dtype=資料型態\n",
    "\n",
    "np2=np.eye(5)#(row&col數,M=指定col,k=起始位置,dtype=資料型態)\n",
    "np3=np.eye(5,M=6,k=1,dtype=int)\n",
    "\n",
    "print(np1)\n",
    "print(\"\")\n",
    "print(np2)\n",
    "print(\"\")\n",
    "print(np3)"
   ]
  },
  {
   "cell_type": "code",
   "execution_count": 27,
   "id": "2ae6e0b8",
   "metadata": {},
   "outputs": [
    {
     "name": "stdout",
     "output_type": "stream",
     "text": [
      "[ 1  4  7 10]\n",
      "(array([ 1,  5, 10]), 4.5)\n",
      "[1 4 7]\n",
      "[0 1 2 3 4 5 6 7 8 9]\n"
     ]
    }
   ],
   "source": [
    "#建立填滿特定大小的陣列\n",
    "\n",
    "#(起始值,停止值,生成數量,結尾,回傳模式,資料型態)\n",
    "np1=np.linspace(1,10,4,1,0,dtype=int) \n",
    "np2=np.linspace(1,10,3,1,1,dtype=int)\n",
    "np3=np.linspace(1,10,3,0,0,dtype=int) \n",
    "\n",
    "#(起始值,停止值,間距,資料型態)\n",
    "np4=np.arange(10) #停止值\n",
    "\n",
    "print(np1)\n",
    "print(np2)#(陣列,間距)\n",
    "print(np3)#生成數量為四個顯示3個\n",
    "print(np4)\n",
    "\n"
   ]
  },
  {
   "cell_type": "code",
   "execution_count": 39,
   "id": "dd3a133f",
   "metadata": {},
   "outputs": [
    {
     "name": "stdout",
     "output_type": "stream",
     "text": [
      "[3 4]\n",
      "3\n",
      "4\n"
     ]
    }
   ],
   "source": [
    "np2= np.array([[3,2,1],[1,6,4]])\n",
    "\n",
    "print(np2[[0,1],[0,2]]) # =np2[0,0],np2[1,2]\n",
    "\n",
    "print(np2[0,0])\n",
    "print(np2[1,2])\n"
   ]
  },
  {
   "cell_type": "code",
   "execution_count": 40,
   "id": "f4120ba4",
   "metadata": {},
   "outputs": [
    {
     "name": "stdout",
     "output_type": "stream",
     "text": [
      "[ 3  8 14]\n",
      "[5 7 9]\n",
      "[ 1  0 -2]\n",
      "[ 2 16 48]\n",
      "[ 4  8 12]\n",
      "[2.   1.   0.75]\n",
      "[0.5 1.  1.5]\n"
     ]
    }
   ],
   "source": [
    "np1=np.array([2,4,6])\n",
    "np2=np.array([1,4,8])\n",
    "\n",
    "print(np1+np2)\n",
    "print(np1+3)\n",
    "print(np1-np2)\n",
    "print(np1*np2)\n",
    "print(np1*2)\n",
    "print(np1/np2)\n",
    "print(np1/4)\n"
   ]
  },
  {
   "cell_type": "code",
   "execution_count": 54,
   "id": "7fa0df37",
   "metadata": {},
   "outputs": [
    {
     "name": "stdout",
     "output_type": "stream",
     "text": [
      "[[28 31 31]\n",
      " [46 49 49]\n",
      " [64 67 67]]\n",
      "[[28 31 31]\n",
      " [46 49 49]\n",
      " [64 67 67]]\n"
     ]
    }
   ],
   "source": [
    "#dot product 內積-1\n",
    "\n",
    "data1=np.array([[4,5,6],[7,8,9],[10,11,12]]) \n",
    "data2=np.array([[3,1,2],[2,3,1],[1,2,3]])\n",
    "\n",
    "print(np.dot(data1,data2))\n",
    "print(data1.dot(data2))"
   ]
  },
  {
   "cell_type": "code",
   "execution_count": 79,
   "id": "d2479b70",
   "metadata": {},
   "outputs": [
    {
     "name": "stdout",
     "output_type": "stream",
     "text": [
      "[[11 11 14]\n",
      " [11 11 14]\n",
      " [ 9  5 10]]\n",
      ">\n",
      "[[11 11  9]\n",
      " [11 11  5]\n",
      " [14 14 10]]\n",
      ">\n",
      "[[1 2 3]\n",
      " [1 2 3]\n",
      " [1 0 3]]\n",
      ">\n",
      "[[3 1 2]\n",
      " [2 3 1]]\n",
      ">\n",
      "[[11 11]\n",
      " [11 11]\n",
      " [ 9  5]]\n"
     ]
    }
   ],
   "source": [
    "#inner product 內積-2\n",
    "\n",
    "data1=np.array([[1,2,3],[1,2,3],[1,0,3]]) #3*3\n",
    "data2=np.array([[3,1,2],[2,3,1],[1,2,3]])#3*3\n",
    "data3=np.array([[3,1,2],[2,3,1]]) #2*3\n",
    "\n",
    "print(np.inner(data1,data2)) #2*3\n",
    "print(\">\")\n",
    "print(np.inner(data2,data1))\n",
    "\n",
    "print(\">\")\n",
    "print(data1)\n",
    "\n",
    "print(\">\")\n",
    "print(data3)\n",
    "print(\">\")\n",
    "print(np.inner(data1,data3))"
   ]
  },
  {
   "cell_type": "code",
   "execution_count": 73,
   "id": "3129b228",
   "metadata": {},
   "outputs": [
    {
     "name": "stdout",
     "output_type": "stream",
     "text": [
      "[[1 2 3]\n",
      " [1 2 3]]\n",
      "\n",
      "[[1 1 2]\n",
      " [2 3 1]\n",
      " [1 2 3]]\n",
      "\n",
      "[[1 1 2 2 3 1 1 2 3]\n",
      " [2 2 4 4 6 2 2 4 6]\n",
      " [3 3 6 6 9 3 3 6 9]\n",
      " [1 1 2 2 3 1 1 2 3]\n",
      " [2 2 4 4 6 2 2 4 6]\n",
      " [3 3 6 6 9 3 3 6 9]]\n"
     ]
    }
   ],
   "source": [
    "#outer product 外積\n",
    "\n",
    "data1=np.array([[1,2,3],[1,2,3]]) #2*3 \n",
    "data2=np.array([[1,1,2],[2,3,1],[1,2,3]]) #3*3\n",
    "\n",
    "print(data1)\n",
    "print(\"\")\n",
    "print(data2)\n",
    "print(\"\")\n",
    "\n",
    "print(np.outer(data1,data2)) #6*9"
   ]
  },
  {
   "cell_type": "code",
   "execution_count": 75,
   "id": "ee400467",
   "metadata": {},
   "outputs": [
    {
     "name": "stdout",
     "output_type": "stream",
     "text": [
      "[[21  7 14 14 21  7]\n",
      " [ 6  2  4  4  6  2]\n",
      " [ 9  3  6  6  9  3]\n",
      " [12  4  8  8 12  4]]\n",
      "\n",
      "[[21  6  9 12]\n",
      " [ 7  2  3  4]\n",
      " [14  4  6  8]\n",
      " [14  4  6  8]\n",
      " [21  6  9 12]\n",
      " [ 7  2  3  4]]\n"
     ]
    }
   ],
   "source": [
    "data1=np.array([[7,2],[3,4]]) #2*2\n",
    "data2=np.array([[3,1,2],[2,3,1]]) #2*3\n",
    "\n",
    "print(np.outer(data1,data2))#4*6\n",
    "print(\"\")\n",
    "print(np.outer(data2,data1))#6*4"
   ]
  },
  {
   "cell_type": "code",
   "execution_count": 80,
   "id": "3a2c3a96",
   "metadata": {},
   "outputs": [
    {
     "name": "stdout",
     "output_type": "stream",
     "text": [
      "12\n",
      "4\n",
      "1\n",
      "[1 2]\n",
      "[1 3]\n",
      "4.0\n",
      "4.0\n",
      "1.632993161855452\n"
     ]
    }
   ],
   "source": [
    "np1=np.array([2,4,6])\n",
    "np2=np.array([[1,2],[3,4]])\n",
    "\n",
    "print(np1.sum())\n",
    "print(np2.max())\n",
    "print(np2.min())\n",
    "print(np2.min(axis=0))#每欄最大值\n",
    "print(np2.min(axis=1))#每列最大值\n",
    "print(np.median(np1))\n",
    "print(np.mean(np1))\n",
    "print(np.std(np1))\n"
   ]
  },
  {
   "cell_type": "code",
   "execution_count": 92,
   "id": "0883dd9f",
   "metadata": {},
   "outputs": [
    {
     "name": "stdout",
     "output_type": "stream",
     "text": [
      "np1\n",
      "[[2 4 6]\n",
      " [4 9 6]]\n",
      "重塑\n",
      "[[2 4]\n",
      " [6 4]\n",
      " [9 6]]\n",
      "轉置\n",
      "[[2 4]\n",
      " [4 9]\n",
      " [6 6]]\n",
      "解開\n",
      "[2 4 6 4 9 6]\n"
     ]
    }
   ],
   "source": [
    "np1=np.array([[2,4,6],[4,9,6]])\n",
    "np2=np.array([[3,5],[4,7],[2,1]])\n",
    "\n",
    "np2.sort(1)#排序層級 1 -> reverse=Ture(遞減)\n",
    "\n",
    "\n",
    "print(\"np1\")\n",
    "print(np1)\n",
    "\n",
    "print(\"重塑\")\n",
    "print(np1.reshape(3,2))\n",
    "\n",
    "print(\"轉置\")\n",
    "print(np1.T)\n",
    "\n",
    "print(\"解開\")\n",
    "print(np1.ravel())\n",
    "\n"
   ]
  },
  {
   "cell_type": "code",
   "execution_count": 93,
   "id": "c26f5e39",
   "metadata": {},
   "outputs": [
    {
     "name": "stdout",
     "output_type": "stream",
     "text": [
      "[2 4 6 4 9 6 4]\n",
      "[2 4 6 4 9 6 3 5 4 7 2 1]\n",
      "[2 4 6 6 4 9 6]\n",
      "[2 6 4 9 6]\n"
     ]
    }
   ],
   "source": [
    "np1=np.array([[2,4,6],[4,9,6]])\n",
    "np2=np.array([[3,5],[4,7],[2,1]])\n",
    "\n",
    "print(np.append(np1,4))\n",
    "print(np.append(np1,np2))\n",
    "print(np.insert(np1,2,6)) #物件,位置,物件\n",
    "print(np.delete(np1,[1]))"
   ]
  },
  {
   "cell_type": "code",
   "execution_count": 102,
   "id": "22a7721f",
   "metadata": {},
   "outputs": [
    {
     "name": "stdout",
     "output_type": "stream",
     "text": [
      "--V--\n",
      "[[3 5]]\n",
      "[[4 7]]\n",
      "[[2 1]]\n",
      "--H---\n",
      "[[3]\n",
      " [4]\n",
      " [2]]\n",
      "[[5]\n",
      " [7]\n",
      " [1]]\n"
     ]
    }
   ],
   "source": [
    "np1=np.array([[3,5],[4,7],[2,1]])\n",
    "\n",
    "print(\"--V--\")\n",
    "np2,np3,np4=np.vsplit(np1,3)\n",
    "print(np2)\n",
    "print(np3)\n",
    "print(np4)\n",
    "\n",
    "print(\"--H---\")\n",
    "np5,np6=np.hsplit(np1,2)\n",
    "print(np5)\n",
    "print(np6)"
   ]
  },
  {
   "cell_type": "code",
   "execution_count": 122,
   "id": "e312ad07",
   "metadata": {},
   "outputs": [
    {
     "name": "stdout",
     "output_type": "stream",
     "text": [
      "1 2 3 4\n"
     ]
    }
   ],
   "source": [
    "list=map(int,input().split())"
   ]
  }
 ],
 "metadata": {
  "kernelspec": {
   "display_name": "Python 3 (ipykernel)",
   "language": "python",
   "name": "python3"
  },
  "language_info": {
   "codemirror_mode": {
    "name": "ipython",
    "version": 3
   },
   "file_extension": ".py",
   "mimetype": "text/x-python",
   "name": "python",
   "nbconvert_exporter": "python",
   "pygments_lexer": "ipython3",
   "version": "3.9.15"
  }
 },
 "nbformat": 4,
 "nbformat_minor": 5
}
