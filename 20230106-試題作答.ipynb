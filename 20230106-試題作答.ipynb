{
 "cells": [
  {
   "cell_type": "code",
   "execution_count": null,
   "id": "5da0cee9",
   "metadata": {},
   "outputs": [],
   "source": [
    "#輸入兩正整數，計算從a開始（包含a）的偶數連加到b的總和\n",
    "\n",
    "\n",
    "num1=input()\n",
    "num2=input()\n",
    "\n",
    "x=[int(num1),int(num2)]\n",
    "x.sort()\n",
    "\n",
    "s=[]\n",
    "ss=0\n",
    "\n",
    "\n",
    "if x[0]%2!=0:\n",
    "    s.append(x[0])\n",
    "    x[0]+=1\n",
    "\n",
    "s+=range(x[0],x[1]+1,2)\n",
    "\n",
    "    \n",
    "for ii in s:\n",
    "     ss+=ii\n",
    "    \n",
    "print(s)    \n",
    "print(ss)\n",
    "    \n",
    "\n",
    "\n",
    "\n"
   ]
  },
  {
   "cell_type": "code",
   "execution_count": 7,
   "id": "54c6c858",
   "metadata": {},
   "outputs": [
    {
     "name": "stdout",
     "output_type": "stream",
     "text": [
      "1\n",
      "2\n",
      "3\n",
      "999\n",
      "[1, 2, 3]\n"
     ]
    },
    {
     "data": {
      "text/plain": [
       "1"
      ]
     },
     "execution_count": 7,
     "metadata": {},
     "output_type": "execute_result"
    }
   ],
   "source": [
    "s=[]\n",
    "\n",
    "while True :\n",
    "    \n",
    "    x=int(input(\"輸入999即結束\"))   \n",
    "    if x==999:\n",
    "        break\n",
    "        \n",
    "    s.append(x)\n",
    "\n",
    "print(s)    \n",
    "s.sort()\n",
    "s[0]"
   ]
  },
  {
   "cell_type": "code",
   "execution_count": 19,
   "id": "316a0ec1",
   "metadata": {},
   "outputs": [
    {
     "name": "stdout",
     "output_type": "stream",
     "text": [
      "3\n",
      "9\n"
     ]
    },
    {
     "data": {
      "text/plain": [
       "27"
      ]
     },
     "execution_count": 19,
     "metadata": {},
     "output_type": "execute_result"
    }
   ],
   "source": [
    "def compute(x,y) :    \n",
    "    w=x*y    \n",
    "    return(w)\n",
    "\n",
    "\n",
    "\n",
    "x=int(input())\n",
    "y=int(input())\n",
    "\n",
    "compute(x,y)\n",
    "\n",
    "    "
   ]
  },
  {
   "cell_type": "code",
   "execution_count": 38,
   "id": "d12c34c0",
   "metadata": {},
   "outputs": [
    {
     "name": "stdout",
     "output_type": "stream",
     "text": [
      "A K J Q 3\n",
      "['A', 'K', 'J', 'Q', '3']\n",
      "[1, 13, 11, 12, '3']\n"
     ]
    },
    {
     "data": {
      "text/plain": [
       "40"
      ]
     },
     "execution_count": 38,
     "metadata": {},
     "output_type": "execute_result"
    }
   ],
   "source": [
    "def compute(lists) :\n",
    "    \n",
    "    for i in range(len(lists)):\n",
    "        \n",
    "        if lists[i]==\"J\":\n",
    "            lists[i]=11\n",
    "            \n",
    "        if lists[i]==\"Q\":\n",
    "            lists[i]=12\n",
    "            \n",
    "        if lists[i]==\"K\":\n",
    "            lists[i]=13\n",
    "\n",
    "        if lists[i]==\"A\":\n",
    "            lists[i]=1               \n",
    "    \n",
    "    print(lists)\n",
    "    \n",
    "    w=0\n",
    "    for ii in lists:\n",
    "        w+=int(ii)\n",
    "        \n",
    "    return(w)\n",
    "\n",
    "\n",
    "\n",
    "lists=list(map(str,input().split()))\n",
    "\n",
    "print(lists)\n",
    "\n",
    "compute(lists)\n",
    "\n",
    "\n",
    "\n",
    "\n",
    "\n",
    "\n"
   ]
  },
  {
   "cell_type": "code",
   "execution_count": 53,
   "id": "84c84186",
   "metadata": {},
   "outputs": [
    {
     "name": "stdout",
     "output_type": "stream",
     "text": [
      "1\n",
      "5\n",
      "66\n",
      "77\n",
      "33\n",
      "-999\n",
      "22\n",
      "33\n",
      "1\n",
      "7\n",
      "8\n",
      "-999\n",
      "[1, 5, 66, 77, 33]\n",
      "[22, 33, 1, 7, 8]\n",
      "[1, 5, 66, 77, 33, 22, 33, 1, 7, 8]\n",
      "[1, 1, 5, 7, 8, 22, 33, 33, 66, 77]\n"
     ]
    }
   ],
   "source": [
    "def lilist() :\n",
    "    \n",
    "    listt=[]\n",
    "    \n",
    "    while True:\n",
    "        x=int(input())\n",
    "\n",
    "        if x == -999 :\n",
    "            break\n",
    "\n",
    "        listt.append(x)\n",
    "        \n",
    "    return listt\n",
    "\n",
    "\n",
    "\n",
    "list1=lilist()\n",
    "list2=lilist()\n",
    "\n",
    "print(list1)\n",
    "print(list2)\n",
    "\n",
    "list=list1+list2\n",
    "print(list)\n",
    "\n",
    "list.sort()\n",
    "print(list)\n",
    "\n",
    "\n",
    "\n"
   ]
  },
  {
   "cell_type": "code",
   "execution_count": 59,
   "id": "84c8c4aa",
   "metadata": {},
   "outputs": [
    {
     "name": "stdout",
     "output_type": "stream",
     "text": [
      "djie\n",
      "ASCII code for d is 100\n",
      "ASCII code for j is 106\n",
      "ASCII code for i is 105\n",
      "ASCII code for e is 101\n",
      "412\n"
     ]
    }
   ],
   "source": [
    "string=input()\n",
    "cc=0\n",
    "for x in string:\n",
    "    c=ord(x)\n",
    "    cc+=c\n",
    "    print(\"ASCII code for\",x,\"is\",c)\n",
    "print(cc)\n",
    "    \n",
    "    \n",
    "    \n"
   ]
  },
  {
   "cell_type": "code",
   "execution_count": 73,
   "id": "062542a5",
   "metadata": {},
   "outputs": [
    {
     "name": "stdout",
     "output_type": "stream",
     "text": [
      "1 2 3 4 5\n",
      "15\n"
     ]
    }
   ],
   "source": [
    "f=open(\"read.text\",\"w\")\n",
    "f.write(\"1 2 3 4 5\")\n",
    "f.close\n",
    "\n",
    "r=open(\"read.text\",\"r\")\n",
    "xx=r.read()\n",
    "\n",
    "w=0\n",
    "for x in xx:\n",
    "    \n",
    "    if x.isdigit():\n",
    "        w+=int(x)\n",
    "        \n",
    "print(xx)    \n",
    "print(w)\n",
    "\n",
    "r.close()\n",
    "\n"
   ]
  },
  {
   "cell_type": "code",
   "execution_count": null,
   "id": "507f6f1f",
   "metadata": {},
   "outputs": [],
   "source": []
  }
 ],
 "metadata": {
  "kernelspec": {
   "display_name": "Python 3 (ipykernel)",
   "language": "python",
   "name": "python3"
  },
  "language_info": {
   "codemirror_mode": {
    "name": "ipython",
    "version": 3
   },
   "file_extension": ".py",
   "mimetype": "text/x-python",
   "name": "python",
   "nbconvert_exporter": "python",
   "pygments_lexer": "ipython3",
   "version": "3.9.15"
  }
 },
 "nbformat": 4,
 "nbformat_minor": 5
}
