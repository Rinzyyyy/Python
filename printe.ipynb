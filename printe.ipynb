{
 "cells": [
  {
   "cell_type": "code",
   "execution_count": 7,
   "id": "a507223e",
   "metadata": {},
   "outputs": [
    {
     "name": "stdout",
     "output_type": "stream",
     "text": [
      "2 ee\n",
      "3 ee\n",
      "4 ee\n",
      "5 ee\n",
      "6 ee\n",
      "7 ee\n",
      "8 ee\n",
      "9 ee\n"
     ]
    }
   ],
   "source": [
    "def xx(num):\n",
    "    print(num+1,\"ee\")\n",
    "if __name__==\"__main__\":\n",
    "    for i in range(1,9):\n",
    "        xx(i)"
   ]
  },
  {
   "cell_type": "code",
   "execution_count": null,
   "id": "bc42bec1",
   "metadata": {},
   "outputs": [],
   "source": []
  }
 ],
 "metadata": {
  "kernelspec": {
   "display_name": "Python 3 (ipykernel)",
   "language": "python",
   "name": "python3"
  },
  "language_info": {
   "codemirror_mode": {
    "name": "ipython",
    "version": 3
   },
   "file_extension": ".py",
   "mimetype": "text/x-python",
   "name": "python",
   "nbconvert_exporter": "python",
   "pygments_lexer": "ipython3",
   "version": "3.9.15"
  }
 },
 "nbformat": 4,
 "nbformat_minor": 5
}
