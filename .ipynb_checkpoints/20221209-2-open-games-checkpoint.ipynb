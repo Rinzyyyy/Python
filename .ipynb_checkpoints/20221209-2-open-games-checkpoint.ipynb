{
 "cells": [
  {
   "cell_type": "code",
   "execution_count": null,
   "id": "cc715f52",
   "metadata": {},
   "outputs": [],
   "source": [
    "path = \"oo.txt\"\n",
    "f = open(path,\"w\") #建立一個記事本\n",
    "\n",
    "f.write(\"hello world\\n\") #在記事本寫入內容\n",
    "#f.read() \n",
    "f.close() #寫完關閉才會儲存\n",
    "\n",
    "\"\"\"\n",
    "r   - 讀取(檔案需存在)\n",
    "w  - 新建檔案寫入(檔案可不存在，若存在則清空)\n",
    "a   - 資料附加到舊檔案後面(游標指在EOF)\n",
    "r+  - 讀取舊資料並寫入(檔案需存在且游標指在開頭)\n",
    "w+ - 清空檔案內容，新寫入的東西可在讀出(檔案可不存在，會自行新增)\n",
    "a+  - 資料附加到舊檔案後面(游標指在EOF)，可讀取資料\n",
    "\n",
    "\"\"\"\n",
    "\n",
    "\n",
    "f=open(path,\"r\")\n",
    "print(f.read())\n",
    "f.close()\n"
   ]
  },
  {
   "cell_type": "code",
   "execution_count": null,
   "id": "3c4c64c9",
   "metadata": {},
   "outputs": [],
   "source": [
    "with open(path,\"a\") as f : #whith 可於讀取完直接close\n",
    "    \n",
    "    f.write(\"apple\\n\")\n",
    "    f.write(\"banana\\n\")\n",
    "    f.write(\"cat\\n\"+\"ss\")"
   ]
  },
  {
   "cell_type": "code",
   "execution_count": null,
   "id": "03b46ad9",
   "metadata": {},
   "outputs": [],
   "source": [
    "with open(path,\"r\") as f :\n",
    "    lines =f.readlines()\n",
    "    print(lines)\n",
    "    for a in lines :\n",
    "        print(a)\n",
    "        \n",
    "    "
   ]
  },
  {
   "cell_type": "code",
   "execution_count": null,
   "id": "b74b0618",
   "metadata": {},
   "outputs": [],
   "source": [
    "with open(path,\"a\") as f :\n",
    "    lines = [\"123\\n\",\"456\",\"789\"]\n",
    "    f.writelines(lines)\n",
    "    \n",
    "with open (path,\"r\") as f :\n",
    "    print(f.read())"
   ]
  },
  {
   "cell_type": "code",
   "execution_count": null,
   "id": "96f44e20",
   "metadata": {},
   "outputs": [],
   "source": [
    "with open(path,\"a\") as f :\n",
    "    print(\"你好\",file = f) # file=f 將print的東西丟到path檔案裡\n",
    "    print(\"123\",file = f)\n",
    "    \n",
    "with open (path,\"r\") as f :\n",
    "    print(f.read())"
   ]
  },
  {
   "cell_type": "code",
   "execution_count": null,
   "id": "01967fb5",
   "metadata": {},
   "outputs": [],
   "source": [
    "s=0\n",
    "d=100\n",
    "x=101\n",
    "\n",
    "import random\n",
    "a=random.randint(0,100)\n",
    "\n",
    "n=0\n",
    "while x!=a :\n",
    "    \n",
    "        x=int(input(\"0~100輸入值: \"))\n",
    "        \n",
    "        n+=1\n",
    "        print(\"第\",n,\"次\")\n",
    "        \n",
    "        if x>a :\n",
    "            print( s,\"到\",x)\n",
    "            d=x\n",
    "            \n",
    "        elif x<a :\n",
    "            print(x,\"到\",d)\n",
    "            s=x\n",
    "            \n",
    "        elif x==a :\n",
    "            print(\"win\")      \n",
    "    "
   ]
  },
  {
   "cell_type": "code",
   "execution_count": null,
   "id": "6ef5d300",
   "metadata": {},
   "outputs": [],
   "source": [
    "import random\n",
    "lis=random.sample(range(0,9),4)\n",
    "print(lis)\n",
    "\n",
    "a=0\n",
    "while a!=4 :\n",
    "    \n",
    "    a=0\n",
    "    b=0\n",
    "    lis2=input(\"Enter four different numbers : \")\n",
    "    \n",
    "    one=[0,1,2,3]\n",
    "    for s in one :\n",
    "\n",
    "        if int(lis2[s])==lis[s] :\n",
    "            a+=1\n",
    "            \n",
    "       \n",
    "        elif int(lis2[s])==lis[3-s] or int(lis2[s])==lis[2-s] or int(lis2[s])==lis[1-s] or int(lis2[s])==lis[s-2] :\n",
    "                b+=1\n",
    "               \n",
    "    \n",
    "    print(\"-\")\n",
    "    \n",
    "    print(a,\"A\",b,\"B\",sep=\"\")\n",
    "    \n",
    "    if a==4 :\n",
    "        print(\"~Bingo~\")\n"
   ]
  },
  {
   "cell_type": "code",
   "execution_count": null,
   "id": "e8b47052",
   "metadata": {},
   "outputs": [],
   "source": [
    "one=[0,1,2,3]\n",
    "print(one[-4])"
   ]
  },
  {
   "cell_type": "code",
   "execution_count": null,
   "id": "6ba07bce",
   "metadata": {},
   "outputs": [],
   "source": [
    "import random\n",
    "lis=random.sample(range(0,9),4)\n",
    "print(lis)\n",
    "\n",
    "a=0\n",
    "while a!=4 :\n",
    "    \n",
    "    a=0\n",
    "    b=0\n",
    "    lis2=input(\"Enter four different numbers : \")\n",
    "    \n",
    "    one=[0,1,2,3]\n",
    "    for s in one :\n",
    "        if int(lis2[s])==lis[s] :\n",
    "            a+=1\n",
    "        for ss in one:\n",
    "            if int(lis2[s])==lis[ss]  :\n",
    "                b+=1\n",
    "    b=b-a\n",
    "               \n",
    "    \n",
    "    print(\"-\")\n",
    "    \n",
    "    print(a,\"A\",b,\"B\",sep=\"\")\n",
    "    \n",
    "    if a==4 :\n",
    "        print(\"~Bingo~\")"
   ]
  },
  {
   "cell_type": "code",
   "execution_count": null,
   "id": "cafb1d9e",
   "metadata": {},
   "outputs": [],
   "source": [
    "import random\n",
    "lis=random.sample(\"0123456789\",4)\n",
    "print(lis)"
   ]
  },
  {
   "cell_type": "code",
   "execution_count": null,
   "id": "f5fc4fc8",
   "metadata": {},
   "outputs": [],
   "source": [
    "import random\n",
    "lis=list(range(0,9))\n",
    "random.shuffle(lis)\n",
    "print(lis[:4])"
   ]
  },
  {
   "cell_type": "code",
   "execution_count": null,
   "id": "5d0bb379",
   "metadata": {},
   "outputs": [],
   "source": [
    "a=[0,1,2,3,4,5,6]\n",
    "a.pop() #剔除最後一個\n",
    "print(a,\"pop後的a-list\")\n",
    "\n",
    "import random as rd\n",
    "c=rd.randint(0,5)\n",
    "b=[]\n",
    "b.append(c)\n",
    "a.pop(c) #剔除a-list的第c個值\n",
    "\n",
    "print(b,\"b-list\")\n",
    "print(a,\"指定pop後的a-list\")\n",
    "\n",
    "\n",
    "aa=[0,1,2,3,4,5,6,7]\n",
    "bb=[]\n",
    "for x in range(4) :                   #設定只執行四次\n",
    "    cc=rd.randint(0,len(aa)-1)    #隨機取aa的位置\n",
    "    bb.append(aa[cc])              #填入aa第cc位置的值\n",
    "    aa.pop(cc)                        #刪除aa第cc位置的值\n",
    "    \n",
    "print(bb,\"隨機生成四個不相等的數字\")"
   ]
  },
  {
   "cell_type": "code",
   "execution_count": null,
   "id": "db78d9d4",
   "metadata": {},
   "outputs": [],
   "source": [
    "import random as rd\n",
    "aa=[0,1,2,3,4,5,6,7]\n",
    "ans=[]\n",
    "for x in range(4) :                   \n",
    "    cc=rd.randint(0,len(aa)-1)    \n",
    "    ans.append(aa[cc])             \n",
    "    aa.pop(cc)                        \n",
    "    \n",
    "print(\"ans\",ans)\n",
    "\n",
    "while aa!=4 :\n",
    "    guess=[]\n",
    "    gue=(input())\n",
    "\n",
    "    for g in gue :\n",
    "        guess.append(int(g))\n",
    "        \n",
    "        \n",
    "    aa=0\n",
    "    bb=0\n",
    "    r=-1\n",
    "    while r<3 :\n",
    "        r+=1\n",
    "        if guess[r] in ans:\n",
    "            if guess[r]==ans[r] :\n",
    "                aa+=1\n",
    "            else :\n",
    "                bb+=1\n",
    "\n",
    "    print(aa,\"A\",bb,\"B\")\n",
    "        \n",
    "\n"
   ]
  },
  {
   "cell_type": "code",
   "execution_count": null,
   "id": "6f29b6ef",
   "metadata": {},
   "outputs": [],
   "source": []
  }
 ],
 "metadata": {
  "kernelspec": {
   "display_name": "Python 3 (ipykernel)",
   "language": "python",
   "name": "python3"
  },
  "language_info": {
   "codemirror_mode": {
    "name": "ipython",
    "version": 3
   },
   "file_extension": ".py",
   "mimetype": "text/x-python",
   "name": "python",
   "nbconvert_exporter": "python",
   "pygments_lexer": "ipython3",
   "version": "3.9.15"
  }
 },
 "nbformat": 4,
 "nbformat_minor": 5
}
