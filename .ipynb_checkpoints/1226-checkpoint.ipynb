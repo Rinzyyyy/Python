{
 "cells": [
  {
   "cell_type": "code",
   "execution_count": 3,
   "id": "5ea887c7",
   "metadata": {},
   "outputs": [
    {
     "name": "stdout",
     "output_type": "stream",
     "text": [
      "{'id': '1550669088730427', 'name': '呂盈萱', 'posts': {'data': [{'created_time': '2021-02-16T09:03:54+0000', 'id': '1550669088730427_1091671397963534'}, {'created_time': '2018-05-09T22:11:31+0000', 'id': '1550669088730427_413070199156994'}, {'created_time': '2018-05-09T14:02:25+0000', 'id': '1550669088730427_412934585837222'}, {'created_time': '2016-09-18T16:32:44+0000', 'id': '1550669088730427_100813440382673'}, {'created_time': '2016-09-18T16:20:13+0000', 'id': '1550669088730427_100806213716729'}, {'created_time': '1995-09-06T07:00:00+0000', 'id': '1550669088730427_100783283719022'}], 'paging': {'previous': 'https://graph.facebook.com/v15.0/1550669088730427/posts?access_token=EAARL5SfyTy8BAGoRfCm13hZA7NfilZAP20lkvMIJbdl42nPltZCJCFuqZB1S8KXBvzprPwZARe92ehDv0rsWntuCrmRwFnIUD1dae5s1shnlNuz0Ku4m2G5sqxoYUDfYYRahQSlyQdpix7Kzh5IieHI2NDNYXxFtIfIq2vNszgP6HczaemKmHKLZAGfVMQHcX7MBJJiwMtwwZDZD&__previous=1&since=1613466234&until&__paging_token=enc_AdBZCx4crrzA88F3ZAaGBPkHZBESl3RpiEyvnWWr1o3TWnd00M1Gz3MyPI1UDofKskD31DxpjHyZBKTNTZA1jVpyYlThqKr4cTcbWntO3KonG7yKsHZBOP3NGPTMK27LdXyCN3JmcMZAalLiQ5CraUalGH3VOk0', 'next': 'https://graph.facebook.com/v15.0/1550669088730427/posts?access_token=EAARL5SfyTy8BAGoRfCm13hZA7NfilZAP20lkvMIJbdl42nPltZCJCFuqZB1S8KXBvzprPwZARe92ehDv0rsWntuCrmRwFnIUD1dae5s1shnlNuz0Ku4m2G5sqxoYUDfYYRahQSlyQdpix7Kzh5IieHI2NDNYXxFtIfIq2vNszgP6HczaemKmHKLZAGfVMQHcX7MBJJiwMtwwZDZD&until=810370800&since&__paging_token=enc_AdDZCL9M5iUA2gnwjS5lRXGVozf2tWjcLPUj7CzApyF3rZB8dVOawm1FVehkzb3ZCaut4BF6ZAevQnDdZCAOkXFevmt4jY8zZBA4xEvJ7iiVgCHpV12EgLRLq1RvWQZBjBE5C6JkVP67H8UyQVSNNgtWwYgdjLe&__previous'}}}\n"
     ]
    }
   ],
   "source": [
    "import requests\n",
    "import json\n",
    "res=requests.get(\"https://graph.facebook.com/v15.0/me?fields=id%2Cname%2Cposts&access_token=EAARL5SfyTy8BAGoRfCm13hZA7NfilZAP20lkvMIJbdl42nPltZCJCFuqZB1S8KXBvzprPwZARe92ehDv0rsWntuCrmRwFnIUD1dae5s1shnlNuz0Ku4m2G5sqxoYUDfYYRahQSlyQdpix7Kzh5IieHI2NDNYXxFtIfIq2vNszgP6HczaemKmHKLZAGfVMQHcX7MBJJiwMtwwZDZD\")\n",
    "js=json.loads(res.text)\n",
    "print(js)\n"
   ]
  }
 ],
 "metadata": {
  "kernelspec": {
   "display_name": "Python 3 (ipykernel)",
   "language": "python",
   "name": "python3"
  },
  "language_info": {
   "codemirror_mode": {
    "name": "ipython",
    "version": 3
   },
   "file_extension": ".py",
   "mimetype": "text/x-python",
   "name": "python",
   "nbconvert_exporter": "python",
   "pygments_lexer": "ipython3",
   "version": "3.9.15"
  }
 },
 "nbformat": 4,
 "nbformat_minor": 5
}
