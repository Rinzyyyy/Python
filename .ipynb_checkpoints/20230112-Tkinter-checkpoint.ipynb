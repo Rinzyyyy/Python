{
 "cells": [
  {
   "cell_type": "code",
   "execution_count": null,
   "id": "67f5f3df",
   "metadata": {},
   "outputs": [],
   "source": [
    "!pip install tk"
   ]
  },
  {
   "cell_type": "code",
   "execution_count": null,
   "id": "81d0e03e",
   "metadata": {},
   "outputs": [],
   "source": [
    "import tkinter as tk\n",
    "from PIL import Image, ImageTk \n",
    "win=tk.Tk()\n",
    "\n",
    "def QQ():\n",
    "    print(\"your answer\")\n",
    "    text1=enter.get()\n",
    "    tk.Label(text=text1)\n",
    "    print(text1)\n",
    "    \n",
    "enter=tk.Entry()\n",
    "enter.pack()\n",
    "\n",
    "win.title('UI test')\n",
    "\n",
    "\n",
    "#win.geometry('600x450')\n",
    "#win.resizable(False,False) #設定無法調整視窗大小\n",
    "win.minsize(width=250,height=1200)\n",
    "#win.maxsize(width=200,height=400)\n",
    "\n",
    "#改變視窗icon\n",
    "#win.iconbitmap('AnyConv.com__Pluto-icon.icns')\n",
    "\n",
    "#改變視窗背景/透明度/視窗置頂\n",
    "win.config(bg='#7e8f4c')#google hex color\n",
    "win.attributes('-alpha',1)\n",
    "win.attributes('-topmost',True)\n",
    "\n",
    "# bg =ImageTk.PhotoImage(Image.open('234.png'))\n",
    "# win.config(image=bg)\n",
    "\n",
    "\n",
    "# 物件定義\n",
    "lb=tk.Label(text='qqq')\n",
    "lb.config(bg='#7e8f4c',fg='#d3b9ed')\n",
    "lb.pack()\n",
    "\n",
    "#按鈕\n",
    "img=ImageTk.PhotoImage(Image.open('eye.ico'))\n",
    "btn=tk.Button(text='press')\n",
    "btn.config(image=img,command=QQ)\n",
    "btn.pack()\n",
    "\n",
    "\n",
    "win.mainloop()"
   ]
  },
  {
   "cell_type": "code",
   "execution_count": null,
   "id": "4a30ca3e",
   "metadata": {},
   "outputs": [],
   "source": []
  }
 ],
 "metadata": {
  "kernelspec": {
   "display_name": "Python 3 (ipykernel)",
   "language": "python",
   "name": "python3"
  },
  "language_info": {
   "codemirror_mode": {
    "name": "ipython",
    "version": 3
   },
   "file_extension": ".py",
   "mimetype": "text/x-python",
   "name": "python",
   "nbconvert_exporter": "python",
   "pygments_lexer": "ipython3",
   "version": "3.9.15"
  }
 },
 "nbformat": 4,
 "nbformat_minor": 5
}
