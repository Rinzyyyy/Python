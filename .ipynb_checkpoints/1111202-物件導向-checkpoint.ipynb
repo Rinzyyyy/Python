{
 "cells": [
  {
   "cell_type": "code",
   "execution_count": 2,
   "id": "76a62096",
   "metadata": {},
   "outputs": [
    {
     "name": "stdout",
     "output_type": "stream",
     "text": [
      "hi\n",
      "7\n",
      "exit\n"
     ]
    }
   ],
   "source": [
    "def apple():\n",
    "\n",
    "        a=3\n",
    "        b=4\n",
    "        c=a+b\n",
    "        print(c)\n",
    "        \n",
    "print(\"hi\")\n",
    "apple()\n",
    "print(\"exit\")"
   ]
  },
  {
   "cell_type": "code",
   "execution_count": 4,
   "id": "e8cce289",
   "metadata": {},
   "outputs": [
    {
     "name": "stdout",
     "output_type": "stream",
     "text": [
      "7\n"
     ]
    }
   ],
   "source": [
    "def ss1(a) :\n",
    "    \n",
    "    b=4\n",
    "    c=a+b\n",
    "    print(c)\n",
    "\n",
    "ss1(3)"
   ]
  },
  {
   "cell_type": "code",
   "execution_count": 5,
   "id": "f1abec5c",
   "metadata": {},
   "outputs": [
    {
     "name": "stdout",
     "output_type": "stream",
     "text": [
      "7\n"
     ]
    }
   ],
   "source": [
    "def ss2(a, b) :\n",
    "    \n",
    "    c=a+b\n",
    "    print(c)\n",
    "    \n",
    "ss2(3,4)"
   ]
  },
  {
   "cell_type": "code",
   "execution_count": 7,
   "id": "15457db5",
   "metadata": {},
   "outputs": [
    {
     "name": "stdout",
     "output_type": "stream",
     "text": [
      "v\n"
     ]
    }
   ],
   "source": [
    "def ss3(a) :\n",
    "    b=4\n",
    "    c=a+b\n",
    "    print(\"v\")\n",
    "    \n",
    "ss3(3)"
   ]
  },
  {
   "cell_type": "code",
   "execution_count": 10,
   "id": "d408ec8c",
   "metadata": {},
   "outputs": [
    {
     "data": {
      "text/plain": [
       "7"
      ]
     },
     "execution_count": 10,
     "metadata": {},
     "output_type": "execute_result"
    }
   ],
   "source": [
    "def ss2(a,b) :\n",
    "    c=a+b\n",
    "    return c\n",
    "\n",
    "ss2(3,4)\n",
    "\n"
   ]
  },
  {
   "cell_type": "code",
   "execution_count": 11,
   "id": "e5d3aad7",
   "metadata": {},
   "outputs": [
    {
     "name": "stdout",
     "output_type": "stream",
     "text": [
      "7\n"
     ]
    }
   ],
   "source": [
    "x=ss2(3,4)\n",
    "print(x)"
   ]
  },
  {
   "cell_type": "code",
   "execution_count": 60,
   "id": "f2cd7e2d",
   "metadata": {},
   "outputs": [
    {
     "name": "stdout",
     "output_type": "stream",
     "text": [
      "her name is bye ,she feels good 10\n"
     ]
    }
   ],
   "source": [
    "class her:\n",
    "    \n",
    "    def __init__(self , name ,isgood ) :\n",
    "        self.name = name\n",
    "        self.isgood = isgood\n",
    "        \n",
    "    def got_status(self,number) :\n",
    "        \n",
    "        print(\"her name is\", self.name ,\",she feels\", str(self.isgood),number)\n",
    "\n",
    "bye = her(\"bye\", \"good\")\n",
    "\n",
    "bye.got_status(10)\n",
    "\n",
    "            "
   ]
  },
  {
   "cell_type": "code",
   "execution_count": 67,
   "id": "23dac5e2",
   "metadata": {},
   "outputs": [
    {
     "name": "stdout",
     "output_type": "stream",
     "text": [
      "David\n",
      "9\n",
      "200\n",
      "*change name*\n",
      "Jason\n",
      "9\n",
      "200\n"
     ]
    }
   ],
   "source": [
    "class person :\n",
    "    \n",
    "    def __init__(self, name, hp, attack) :\n",
    "        self.name = name\n",
    "        self.hp = hp\n",
    "        self.attack = attack\n",
    "        \n",
    "    def attack_by_enemy(self) :\n",
    "        self.hp -= 1\n",
    "        \n",
    "    def get_info(self) :\n",
    "        print(self.name)\n",
    "        print(self.hp)\n",
    "        print(self.attack)\n",
    "        \n",
    "    def change_name(self, newname) :\n",
    "        self.name = newname\n",
    "    \n",
    "chopper = person(\"peter\",100,3)\n",
    "miner = person(\"David\", 10,200)\n",
    "\n",
    "miner.attack_by_enemy()\n",
    "miner.get_info()\n",
    "\n",
    "print(\"*change name*\")\n",
    "\n",
    "miner.change_name(\"Jason\")\n",
    "miner.get_info()\n",
    "\n",
    "        "
   ]
  },
  {
   "cell_type": "code",
   "execution_count": 93,
   "id": "fd854d2d",
   "metadata": {},
   "outputs": [
    {
     "name": "stdout",
     "output_type": "stream",
     "text": [
      "Name  mmm\n",
      "血量 :100\n",
      "Name  www\n",
      "血量 :90\n",
      "隨機扣血 6\n",
      "name mmm\n",
      "餘血 94\n",
      "攻擊力 9\n",
      "被攻擊後\n",
      "name mmm\n",
      "餘血 84\n",
      "攻擊力 9\n"
     ]
    }
   ],
   "source": [
    "class people :\n",
    "    \n",
    "    def __init__(self, name, hp, attack) :\n",
    "        self.name = name\n",
    "        self.hp = hp\n",
    "        self.attack = attack\n",
    "        \n",
    "    def attack_by_life(self) :\n",
    "        import random\n",
    "        w=random.randint(1,10)\n",
    "        print(\"隨機扣血\",w)\n",
    "        self.hp -= w\n",
    "        \n",
    "    def attack_by_person(self,p) :\n",
    "         self.hp -= p.attack\n",
    "        \n",
    "    def get_info(self) :\n",
    "        print(\"name\",self.name)\n",
    "        print(\"餘血\",self.hp)\n",
    "        print(\"攻擊力\",self.attack)\n",
    "\n",
    "        \n",
    "one = people(input(\"Name  \"),int(input(\"血量 :\")),9)\n",
    "two = people(input(\"Name  \"),int(input(\"血量 :\")),10)\n",
    "one.attack_by_life()\n",
    "one.get_info()\n",
    "\n",
    "one.attack_by_person(two)\n",
    "print(\"被攻擊後\")\n",
    "one.get_info()\n"
   ]
  },
  {
   "cell_type": "code",
   "execution_count": 82,
   "id": "86dce73f",
   "metadata": {},
   "outputs": [
    {
     "name": "stdout",
     "output_type": "stream",
     "text": [
      "7\n"
     ]
    }
   ],
   "source": [
    "import random\n",
    "aa=random.randint(1,10)\n",
    "print(aa)"
   ]
  },
  {
   "cell_type": "code",
   "execution_count": 113,
   "id": "f945401a",
   "metadata": {},
   "outputs": [
    {
     "name": "stdout",
     "output_type": "stream",
     "text": [
      "Name  mmm\n",
      "血量 :100\n",
      "Name  www\n",
      "血量 :100\n",
      "--start--\n",
      "name mmm\n",
      "餘血 90\n",
      "攻擊力 9\n",
      "-----\n",
      "name www\n",
      "餘血 100\n",
      "攻擊力 10\n",
      "-----\n"
     ]
    }
   ],
   "source": [
    "class people :\n",
    "    \n",
    "    def __init__(self, name, hp, attack) :\n",
    "        self.name = name\n",
    "        self.hp = hp\n",
    "        self.attack = attack\n",
    "        \n",
    "    def attack_by_life(self) :\n",
    "        import random\n",
    "        w=random.randint(1,10)\n",
    "        print(\"隨機扣血\",w)\n",
    "        self.hp -= w\n",
    "        \n",
    "    def attack_by_person(self,p) :\n",
    "         self.hp -= p.attack\n",
    "        \n",
    "    def get_info(self) :\n",
    "        print(\"name\",self.name)\n",
    "        print(\"餘血\",self.hp)\n",
    "        print(\"攻擊力\",self.attack)\n",
    "\n",
    "\n",
    "class world :\n",
    "    \n",
    "            def __init__(self) :\n",
    "            \n",
    "                self.people=[]\n",
    "\n",
    "            def append_people(self,p) :\n",
    "                \n",
    "                self.people.append (p)\n",
    "\n",
    "            def war (self) :\n",
    "\n",
    "                self.people[0].attack_by_person(self.people[1]) \n",
    "                for p in self.people :\n",
    "                    p.get_info()\n",
    "                    print(\"-----\")\n",
    "\n",
    "one = people(input(\"Name  \"),int(input(\"血量 :\")),9)\n",
    "two = people(input(\"Name  \"),int(input(\"血量 :\")),10)\n",
    " \n",
    "print(\"--start--\")\n",
    "w = world()\n",
    "w.append_people(one)\n",
    "w.append_people(two)\n",
    "w.war()\n",
    "    \n",
    "    "
   ]
  },
  {
   "cell_type": "code",
   "execution_count": 253,
   "id": "02994e00",
   "metadata": {},
   "outputs": [
    {
     "name": "stdout",
     "output_type": "stream",
     "text": [
      "-----Round 1 -----\n",
      "Chopper Attack by 法師\n",
      "-\n",
      "Chopper\n",
      "Blood :  70\n",
      "Attack :  20\n",
      " \n",
      "-----Round 2 -----\n",
      "法師 Attack by Miner\n",
      "-\n",
      "法師\n",
      "Blood :  70\n",
      "Attack :  30\n",
      " \n",
      "-----Round 3 -----\n",
      "射手 Attack by Chopper\n",
      "-\n",
      "射手\n",
      "Blood :  70\n",
      "Attack :  30\n",
      " \n"
     ]
    }
   ],
   "source": [
    "class Person:\n",
    "    def __init__(self, name, hp, attack):\n",
    "        self.name = name\n",
    "        self.hp = hp\n",
    "        self.attack = attack\n",
    "        \n",
    "    def change_hp(self, hp):\n",
    "        \n",
    "        self.hp = hp\n",
    "        \n",
    "    def attack_by_person(self, p):\n",
    "        self.change_hp(self.hp-p.attack)\n",
    "        \n",
    "    def healing(self):\n",
    "        self.change_hp(self.hp+1)\n",
    "        \n",
    "    def change_name(self,n):\n",
    "        self.name = n\n",
    "        \n",
    "    def get_info(self):\n",
    "        print(\"-\")\n",
    "        print(self.name)\n",
    "        print(\"Blood : \",self.hp)\n",
    "        print(\"Attack : \",self.attack)\n",
    "        print(\" \")\n",
    "        \n",
    "class World:\n",
    "    def __init__(self):\n",
    "        self.people=[]\n",
    "        \n",
    "    def append_people(self,p):\n",
    "        self.people.append(p)\n",
    "        \n",
    "    def war(self):\n",
    "        import random\n",
    "     \n",
    "        n=0\n",
    "        \n",
    "        while n<3 :\n",
    "            \n",
    "            print(\"-----Round\",n+1,\"-----\")\n",
    "            \n",
    "            \n",
    "            v = random.randint(0,3)\n",
    "            z = random.randint(0,3)\n",
    "            \n",
    "            if v != z :\n",
    "                self.people[v].attack_by_person(self.people[z])\n",
    "\n",
    "                nb = self.people[v].name\n",
    "                na = self.people[z].name\n",
    "                print(nb,\"Attack by\",na)\n",
    "\n",
    "                self.people[v].get_info()\n",
    "                \n",
    "            else :\n",
    "                \n",
    "                if v<=3 :\n",
    "                        v-1\n",
    "                        self.people[v].attack_by_person(self.people[z])\n",
    "\n",
    "                        nb = self.people[v].name\n",
    "                        na = self.people[z].name\n",
    "                        print(nb,\"Attack by\",na)\n",
    "\n",
    "                        self.people[v].get_info()\n",
    "\n",
    "                elif v>=0 :\n",
    "                        v+1 \n",
    "                        self.people[v].attack_by_person(self.people[z])\n",
    "\n",
    "                        nb = self.people[v].name\n",
    "                        na = self.people[z].name\n",
    "                        print(nb,\"Attack by\",na)\n",
    "\n",
    "                        self.people[v].get_info()\n",
    "                \n",
    "\n",
    "            n+=1\n",
    "\n",
    "\n",
    "Chopper = Person(\"Chopper\",100,20)\n",
    "Miner = Person(\"Miner\",100,20)\n",
    "marksman =Person(\"射手\",90,30)\n",
    "mega =Person(\"法師\",90,30)\n",
    "\n",
    "world = World()\n",
    "world.append_people(Chopper)\n",
    "world.append_people(Miner)\n",
    "world.append_people(marksman)\n",
    "world.append_people(mega)\n",
    "world.war()"
   ]
  },
  {
   "cell_type": "code",
   "execution_count": null,
   "id": "dac5c0ea",
   "metadata": {},
   "outputs": [],
   "source": []
  }
 ],
 "metadata": {
  "kernelspec": {
   "display_name": "Python 3 (ipykernel)",
   "language": "python",
   "name": "python3"
  },
  "language_info": {
   "codemirror_mode": {
    "name": "ipython",
    "version": 3
   },
   "file_extension": ".py",
   "mimetype": "text/x-python",
   "name": "python",
   "nbconvert_exporter": "python",
   "pygments_lexer": "ipython3",
   "version": "3.9.13"
  }
 },
 "nbformat": 4,
 "nbformat_minor": 5
}
