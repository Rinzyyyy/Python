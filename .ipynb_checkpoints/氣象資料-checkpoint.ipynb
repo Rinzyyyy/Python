{
 "cells": [
  {
   "cell_type": "code",
   "execution_count": null,
   "id": "09219ac6",
   "metadata": {},
   "outputs": [],
   "source": [
    "from selenium import webdriver\n",
    "\n",
    "driver=webdriver.Chrome(\"/Users/xuan/python/chromedriver.exe\",options=option) \n",
    "driver.get(\"https://www.instagram.com\")"
   ]
  }
 ],
 "metadata": {
  "kernelspec": {
   "display_name": "Python 3 (ipykernel)",
   "language": "python",
   "name": "python3"
  },
  "language_info": {
   "codemirror_mode": {
    "name": "ipython",
    "version": 3
   },
   "file_extension": ".py",
   "mimetype": "text/x-python",
   "name": "python",
   "nbconvert_exporter": "python",
   "pygments_lexer": "ipython3",
   "version": "3.9.15"
  }
 },
 "nbformat": 4,
 "nbformat_minor": 5
}
