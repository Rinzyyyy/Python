{
 "cells": [
  {
   "cell_type": "code",
   "execution_count": 4,
   "id": "25bd6cd0",
   "metadata": {},
   "outputs": [],
   "source": [
    "import openpyxl\n",
    "\n",
    "wb=openpyxl.Workbook()\n",
    "ws=wb.active\n",
    "\n",
    "ws[\"A1\"]=\"職缺名稱\"\n",
    "ws[\"B1\"]=\"公司名稱\"\n",
    "ws[\"C1\"]=\"職缺連結\"\n",
    "ws[\"D1\"]=\"職缺地區\"\n",
    "ws[\"E1\"]=\"薪資待遇\"\n",
    "\n",
    "ws.append([1,2,3,4,5])\n",
    "\n",
    "ws.append([\"a\",\"b\",\"c\",\"d\",\"e\"])\n",
    "\n",
    "\n",
    "\n",
    "wb.save(\"test20221208.xlsx\")"
   ]
  },
  {
   "cell_type": "code",
   "execution_count": null,
   "id": "670687f6",
   "metadata": {},
   "outputs": [],
   "source": []
  }
 ],
 "metadata": {
  "kernelspec": {
   "display_name": "Python 3 (ipykernel)",
   "language": "python",
   "name": "python3"
  },
  "language_info": {
   "codemirror_mode": {
    "name": "ipython",
    "version": 3
   },
   "file_extension": ".py",
   "mimetype": "text/x-python",
   "name": "python",
   "nbconvert_exporter": "python",
   "pygments_lexer": "ipython3",
   "version": "3.9.13"
  }
 },
 "nbformat": 4,
 "nbformat_minor": 5
}
