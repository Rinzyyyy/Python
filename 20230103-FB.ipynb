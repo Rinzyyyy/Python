{
 "cells": [
  {
   "cell_type": "code",
   "execution_count": 2,
   "id": "f0af7ffc",
   "metadata": {},
   "outputs": [
    {
     "data": {
      "text/plain": [
       "{'data': [{'created_time': '2023-01-03T07:33:00+0000',\n",
       "   'from': {'name': 'Mm', 'id': '100520176270806'},\n",
       "   'message': '123',\n",
       "   'id': '100778799577919_675696074107995'}]}"
      ]
     },
     "execution_count": 2,
     "metadata": {},
     "output_type": "execute_result"
    }
   ],
   "source": [
    "import requests\n",
    "import json\n",
    "import jieba\n",
    "\n",
    "me_id= \"100520176270806\"\n",
    "post_id=\"100778799577919\"\n",
    "host=\"https://graph.facebook.com/v15.0/\" #cURL\n",
    "token=\"EAAHdHIDKw4EBAIsayz00ZBVvZBa3JRqQlOFffwD46aVtyGdG21qiyx8tTHi2X0XZCsszcKrvAc3WCg7WkvBaect6mZCD7ZB5JsmAYkExvTK4sz8sjfNOaS7rpnTx6CekOPFfsNaCP1WGOgL9AZAISmWS3iZCgB98WpsGpXL9dk1cn46cT8PrKZC6oi0sviWVQQdoeZAEx9eQOXgZDZD\"\n",
    "res=requests.get(host+me_id+'_'+post_id+\"/comments?access_token=\"+token) #抓取文章下的留言\n",
    "jd=json.loads(res.text)\n",
    "jd\n",
    "\n"
   ]
  },
  {
   "cell_type": "code",
   "execution_count": 5,
   "id": "018d7872",
   "metadata": {},
   "outputs": [
    {
     "data": {
      "text/plain": [
       "{'data': []}"
      ]
     },
     "execution_count": 5,
     "metadata": {},
     "output_type": "execute_result"
    }
   ],
   "source": [
    "com_id=jd['data'][0]['id']\n",
    "ress=requests.get(host+com_id+\"/comments?access_token=\"+token) #抓取文章留言下的回覆\n",
    "jd=json.loads(ress.text)\n",
    "jd\n"
   ]
  },
  {
   "cell_type": "code",
   "execution_count": 7,
   "id": "1cd32d69",
   "metadata": {},
   "outputs": [
    {
     "name": "stdout",
     "output_type": "stream",
     "text": [
      "4\n"
     ]
    }
   ],
   "source": [
    "import random\n",
    "min_a=0\n",
    "max_a=100\n",
    "ans=random.randint(min_a,max_a)\n",
    "print(ans)\n",
    "\n",
    "while True :\n",
    "    res=requests.get(host+post_id+\"/comments?access_token=\"+token)\n",
    "    com=json.loads(ress.text)\n",
    "    \n",
    "    if int(com['data'][0]['message'])==ans:\n",
    "        res=requests.post(host+com['data'][0]['id']+\"/comments?message=bingo&access_token=\"+token) #requests.post貼文\n",
    "    elif int(com['data'][0]['message'])>ans:\n",
    "        max_a=com['data'][0]['message']\n",
    "        r=requests.post(host+com['data'][0]['id']+\"/comments?message=\"+min_a+\"~\"+max_a)\n",
    "    elif int(com['data'][0]['message'])<ans:\n",
    "        min_a=com['data'][0]['message']\n",
    "        r=requests.post(host+com['data'][0]['id']+\"/comments?message=\"+min_a+\"~\"+max_a)\n",
    "               \n",
    "    "
   ]
  },
  {
   "cell_type": "code",
   "execution_count": 39,
   "id": "21b752c8",
   "metadata": {},
   "outputs": [
    {
     "name": "stdout",
     "output_type": "stream",
     "text": [
      "postID: 100520176270806_102094192779713\n",
      "回覆： <Response [200]>\n",
      "{'data': [{'created_time': '2023-01-06T09:30:01+0000', 'from': {'name': '呂盈萱', 'id': '5839896076049439'}, 'message': 'start', 'id': '102094192779713_943882639929190'}]}\n",
      "gogo_enter\n",
      "{'data': []}\n"
     ]
    }
   ],
   "source": [
    "import requests\n",
    "import json\n",
    "import random\n",
    "import time\n",
    "\n",
    "host=\"https://graph.facebook.com/v15.0/\"\n",
    "token=\"&access_token=EAAHdHIDKw4EBADJfMHCgiXk9jVkZBiQlOsYqtkb6w7nsT7WXMZBZBZBHthBZAQuyMZAxAqhCdPmAr56wKTqdZCT7LDySPAPcDvZBTe17mnvTHSo4DQRVWZCZCUbZBMZACPWQDzcvfTSO7oXlMzq6o0JLHTycnln06KidnBLAB28783zZBA8yCycj6zTNgbOYwfZBsrDu8cpvnsQSHZC6wZDZD\"\n",
    "ID=\"100520176270806\"\n",
    "\n",
    "\n",
    "# post=requests.post(host+ID+\"/feed?message=game\"+token)\n",
    "# print(\"貼文：\",post)\n",
    "\n",
    "post_ID=requests.get(host+ID+\"/posts?\"+token)\n",
    "post1=json.loads(post_ID.text)\n",
    "print(\"postID:\",post1['data'][0]['id'])\n",
    "\n",
    "comment=requests.get(host+post1['data'][0]['id']+\"/comments?\"+token)#回覆\n",
    "com=json.loads(comment.text)\n",
    "print(\"回覆：\",comment)\n",
    "print(com)\n",
    "\n",
    "# start=requests.post(host+com['data'][0]['id']+\"/comments?message=gogo_enter\"+token)\n",
    "startt=requests.get(host+com['data'][0]['id']+\"/comments?\"+token)\n",
    "jd=json.loads(startt.text)\n",
    "print(jd['data'][0]['message'])\n",
    "\n",
    "# min=0\n",
    "# max=100\n",
    "\n",
    "# ans=random.randint(min,max)\n",
    "\n",
    "comments=requests.get(host+jd[\"data\"][0][\"id\"]+\"/comments?\"+token)#回覆的回覆\n",
    "comts=json.loads(comments.text)\n",
    "print(comts)\n",
    "\n",
    "# if comts[\"data\"][0][\"messages\"]==23:\n",
    "    \n",
    "#     print(\"讀取回覆\")\n",
    "    \n",
    "\n",
    "    \n",
    "    \n",
    "\n",
    "\n"
   ]
  },
  {
   "cell_type": "code",
   "execution_count": null,
   "id": "66349e4b",
   "metadata": {},
   "outputs": [],
   "source": [
    "token=\"EAAIZC6zjoUEABANMqMTEZBCvunimqgwGgIqiogYgRBUDIBPNpwNHNzWOGmGTG7ZApMEEJFg6fLlYZACCtrmXgZASZAOQv92pNUrypd6x3ZA1pHlRrl2TKeFnkHHXjpHRBktWtBmLOB90ZCZBz6c9icwnrBTZAU7EroGKuI1H8FiiiGbZB7cLZAaVNypvI7CfgU4FuZCb6trHzwtDYSQZDZD\"\n",
    "import requests\n",
    "import json\n",
    "import random\n",
    "import time\n",
    "post_id='105967285098749_143445941350883'#猜數字貼文ID\n",
    "count=0 #初始化程式運作次數\n",
    "#設定猜數字的起始參數\n",
    "maxnum=100 #最大值\n",
    "minnum=1 #最小值\n",
    "\n",
    "#清空歸零\n",
    "com_gu={}#留言的留言的ID與Message\n",
    "com_re=[]#留言的ID與Message\n",
    "com_ans={}#{\"留言ID\":[答案,最小值,最大值,回答狀態]}  0開始;1已猜對\n",
    "    \n",
    "while True:#啟動猜數字程式\n",
    "    #爬文章留言\n",
    "    res = requests.get(\"https://graph.facebook.com/v11.0/\"+post_id+\"/comments?access_token=\"+token)\n",
    "    jd = json.loads(res.text)\n",
    "    print(\"讀取貼文留言\")\n",
    "    print(res)\n",
    "    \n",
    "    #開始分析\n",
    "    for comment in jd['data']:\n",
    "        #新留言\n",
    "        if 'message' in comment and comment[\"id\"] not in com_re :#留言是否有message以及是否已回覆\n",
    "            com_re.append(comment['id'])#儲存已啟動的留言\n",
    "            #為該留言設定答案\n",
    "            ans=random.randint(minnum,maxnum)\n",
    "            com_ans[comment['id']]=[ans,minnum,maxnum,0]\n",
    "            print(com_ans[comment['id']])\n",
    "            #開始判斷\n",
    "            num=int(comment['message'])\n",
    "            if num == com_ans[comment['id']][0]:#猜對時\n",
    "                res_re = requests.post(\"https://graph.facebook.com/v11.0/\"+comment['id']+\"/comments?message=恭喜猜對&access_token=\"+token)\n",
    "                jd_re = json.loads(res_re.text)\n",
    "                com_ans[comment['id']][3]=1 #更改回答狀態改為已猜對\n",
    "                print(res_re)\n",
    "                print(\"答案正確\")\n",
    "            elif num>com_ans[comment['id']][0]:#猜的大於答案\n",
    "                com_ans[comment['id']][2]=num #更改最大值為猜測數字\n",
    "                #紀錄該留言的留言的ID\n",
    "                res_re = requests.post(\"https://graph.facebook.com/v11.0/\"+comment['id']+\"/comments?message=請輸入\"+str(com_ans[comment['id']][1])+\"到\"+str(com_ans[comment['id']][2])+\"的數字&access_token=\"+token)\n",
    "                jd_re = json.loads(res_re.text)\n",
    "                com_gu[comment[\"id\"]]=jd_re[\"id\"]\n",
    "                print(res_re)\n",
    "                print(\"數字太大\")\n",
    "            elif num<com_ans[comment['id']][0]:#猜的小於答案\n",
    "                com_ans[comment['id']][1]=num #更改最小值為猜測數字\n",
    "                #紀錄該留言的留言的ID\n",
    "                res_re = requests.post(\"https://graph.facebook.com/v11.0/\"+comment['id']+\"/comments?message=請輸入\"+str(com_ans[comment['id']][1])+\"到\"+str(com_ans[comment['id']][2])+\"的數字&access_token=\"+token)\n",
    "                jd_re = json.loads(res_re.text)\n",
    "                com_gu[comment[\"id\"]]=jd_re[\"id\"]\n",
    "                print(res_re)\n",
    "                print(\"數字太小\")\n",
    "        #舊留言\n",
    "        elif comment[\"id\"] in com_re:#已啟動的留言\n",
    "            if com_ans[comment[\"id\"]][3] == 1:#回答狀態改為已猜對\n",
    "                continue #已猜對的跳過\n",
    "            else:\n",
    "                #爬留言的留言\n",
    "                res1 = requests.get(\"https://graph.facebook.com/v11.0/\"+comment['id']+\"/comments?access_token=\"+token)\n",
    "                jd1 = json.loads(res1.text)\n",
    "                print(\"讀取留言的留言\")\n",
    "                print(res1)\n",
    "                #開始分析\n",
    "                for comment1 in jd1['data']:\n",
    "                    #刪除上一次回應\n",
    "                    if \"請輸入\" in comment1['message'] and len(jd1['data'])!=1:#只在有新留言時動作\n",
    "                        res_d = requests.delete(\"https://graph.facebook.com/v11.0/\"+comment1['id']+\"?access_token=\"+token)\n",
    "                        print(\"刪除舊回應\")\n",
    "                        print(res_d)\n",
    "                    #有新留言時開始判斷\n",
    "                    elif len(jd1['data'])==2:\n",
    "                        num=int(comment1['message'])\n",
    "                        if num == com_ans[comment['id']][0]:#猜對時\n",
    "                            res = requests.post(\"https://graph.facebook.com/v11.0/\"+comment['id']+\"/comments?message=恭喜猜對&access_token=\"+token)\n",
    "                            jd = json.loads(res.text)\n",
    "                            com_ans[comment['id']][3]=1 #更改回答狀態改為已猜對\n",
    "                            print(res)\n",
    "                            print(\"答案正確\")\n",
    "                        elif num>com_ans[comment['id']][0]:#猜的大於答案\n",
    "                            com_ans[comment['id']][2]=num #更改最大值為猜測數字\n",
    "                            #刪除猜的數字並給出新提示\n",
    "                            res_d = requests.delete(\"https://graph.facebook.com/v11.0/\"+comment1['id']+\"?access_token=\"+token)\n",
    "                            res = requests.post(\"https://graph.facebook.com/v11.0/\"+comment['id']+\"/comments?message=請輸入\"+str(com_ans[comment['id']][1])+\"到\"+str(com_ans[comment['id']][2])+\"的數字&access_token=\"+token)\n",
    "                            jd = json.loads(res.text)\n",
    "                            print(res)\n",
    "                            print(\"數字太大\")\n",
    "                        elif num<com_ans[comment['id']][0]:#猜的小於答案\n",
    "                            com_ans[comment['id']][1]=num #更改最小值為猜測數字\n",
    "                            #刪除猜的數字並給出新提示\n",
    "                            res_d = requests.delete(\"https://graph.facebook.com/v11.0/\"+comment1['id']+\"?access_token=\"+token)\n",
    "                            res = requests.post(\"https://graph.facebook.com/v11.0/\"+comment['id']+\"/comments?message=請輸入\"+str(com_ans[comment['id']][1])+\"到\"+str(com_ans[comment['id']][2])+\"的數字&access_token=\"+token)\n",
    "                            jd = json.loads(res.text)\n",
    "                            print(res)\n",
    "                            print(\"數字太小\")\n",
    "    count+=1\n",
    "    print(count)\n",
    "    time.sleep(10)"
   ]
  }
 ],
 "metadata": {
  "kernelspec": {
   "display_name": "Python 3 (ipykernel)",
   "language": "python",
   "name": "python3"
  },
  "language_info": {
   "codemirror_mode": {
    "name": "ipython",
    "version": 3
   },
   "file_extension": ".py",
   "mimetype": "text/x-python",
   "name": "python",
   "nbconvert_exporter": "python",
   "pygments_lexer": "ipython3",
   "version": "3.9.15"
  }
 },
 "nbformat": 4,
 "nbformat_minor": 5
}
