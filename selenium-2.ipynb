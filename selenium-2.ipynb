{
 "cells": [
  {
   "cell_type": "code",
   "execution_count": null,
   "id": "43339f19",
   "metadata": {},
   "outputs": [],
   "source": [
    "!pip install selenium"
   ]
  },
  {
   "cell_type": "code",
   "execution_count": 2,
   "id": "521eaacb",
   "metadata": {},
   "outputs": [
    {
     "name": "stderr",
     "output_type": "stream",
     "text": [
      "/var/folders/d0/gstvjrv16_l_0pk52fjd4nrw0000gn/T/ipykernel_78207/2264938944.py:10: DeprecationWarning: executable_path has been deprecated, please pass in a Service object\n",
      "  driver=webdriver.Chrome(\"/Users/xuan/python/chromedriver.exe\",options=option) #開啟webdriver並更改預設設定\n"
     ]
    }
   ],
   "source": [
    "from selenium import webdriver\n",
    "\n",
    "#關閉網頁通知\n",
    "from selenium.webdriver.chrome.options import Options\n",
    "option=webdriver.ChromeOptions() #獲取預設設定\n",
    "prefs={\"profile.default_content_setting_values\":{\"notifications\":2}} #通知設定選項：選擇第三個\n",
    "option.add_experimental_option(\"prefs\",prefs)#更新設定\n",
    "\n",
    "#導入網頁 \n",
    "driver=webdriver.Chrome(\"/Users/xuan/python/chromedriver.exe\",options=option) #開啟webdriver並更改預設設定\n",
    "driver.get(\"https://www.instagram.com\") #開啟網址"
   ]
  },
  {
   "cell_type": "code",
   "execution_count": 3,
   "id": "cf6d8de2",
   "metadata": {},
   "outputs": [],
   "source": [
    "from selenium.webdriver.support.wait import WebDriverWait\n",
    "from selenium.webdriver.support import expected_conditions as EC\n",
    "from selenium.webdriver.common.by import By\n",
    "from selenium.webdriver.common.keys import Keys\n",
    "\n",
    "                    #讓網站最多等待十秒     #直到判斷元素可被點擊       ＃By使用css的屬性去選取   #屬性tag\n",
    "username=WebDriverWait(driver,10).until(EC.element_to_be_clickable((By.CSS_SELECTOR,'input[name=\"username\"]')))\n",
    "username.send_keys(\"xuan0690\")\n",
    "\n",
    "code=WebDriverWait(driver,10).until(EC.element_to_be_clickable((By.CSS_SELECTOR,'input[name=\"password\"]')))\n",
    "code.send_keys(\"a0191042\")\n",
    "\n",
    "login=WebDriverWait(driver,10).until(EC.element_to_be_clickable((By.CSS_SELECTOR,'button[class=\"_acan _aiit _acap _aijb _acas _aj1-\"]')))\n",
    "login.click()\n",
    "#login.send_keys(Keys.ENTER)\n",
    "#webdriver.ActionChains(driver).send_keys(Keys.ENTTER).perform()"
   ]
  },
  {
   "cell_type": "code",
   "execution_count": null,
   "id": "47d6c1e0",
   "metadata": {},
   "outputs": [],
   "source": [
    "driver.execute_script(\"window.scrollTo(0,document.body.scrollHeight\";) #模擬滑鼠滾輪＃document.body.scrollHeight直接滑到最後(x,y)"
   ]
  },
  {
   "cell_type": "code",
   "execution_count": 4,
   "id": "cd2371a9",
   "metadata": {},
   "outputs": [
    {
     "name": "stdout",
     "output_type": "stream",
     "text": [
      "[{'domain': '.instagram.com', 'httpOnly': True, 'name': 'rur', 'path': '/', 'sameSite': 'Lax', 'secure': True, 'value': '\"EAG\\\\0541036531224\\\\0541704613069:01f7dc72b4847b0ad6a45a7e98f9aaebbdfdea4e1758e4928602f4a67c4e734b121da220\"'}, {'domain': '.instagram.com', 'expiry': 1673681865, 'httpOnly': True, 'name': 'shbid', 'path': '/', 'secure': True, 'value': '\"14382\\\\0541036531224\\\\0541704613065:01f7e1ac2e89f2b7805b74107b38e94f297821ed9805bafe2ed169772f3b355a5a1dc808\"'}, {'domain': '.instagram.com', 'expiry': 1673681865, 'httpOnly': True, 'name': 'shbts', 'path': '/', 'secure': True, 'value': '\"1673077065\\\\0541036531224\\\\0541704613065:01f778a81fbecfaf431c8d2160b52a9b77266c90d495c0ffaea58cdc3ada2db42c85990b\"'}, {'domain': '.instagram.com', 'expiry': 1704613065, 'httpOnly': True, 'name': 'sessionid', 'path': '/', 'secure': True, 'value': '1036531224%3AMny9TR9NNHC4zr%3A6%3AAYenuOd0sC-Odc7KYBJV2r6cvkG3mb0MUJ6ZENRbjA'}, {'domain': '.instagram.com', 'expiry': 1704526669, 'httpOnly': False, 'name': 'csrftoken', 'path': '/', 'secure': True, 'value': 'rpOqLxnBPcqnCMHN7JL68Qs62DeLxFgk'}, {'domain': '.instagram.com', 'expiry': 1707637053, 'httpOnly': True, 'name': 'datr', 'path': '/', 'sameSite': 'None', 'secure': True, 'value': 'OyG5Y48Auvivrqm2DUHTdXIo'}, {'domain': '.instagram.com', 'expiry': 1680853069, 'httpOnly': False, 'name': 'ds_user_id', 'path': '/', 'secure': True, 'value': '1036531224'}, {'domain': '.instagram.com', 'expiry': 1704613053, 'httpOnly': True, 'name': 'ig_did', 'path': '/', 'sameSite': 'None', 'secure': True, 'value': '5079F264-238C-45C8-AEA1-CDF3D89E3271'}, {'domain': '.instagram.com', 'expiry': 1704613052, 'httpOnly': False, 'name': 'ig_nrcb', 'path': '/', 'secure': True, 'value': '1'}, {'domain': '.instagram.com', 'expiry': 1707637052, 'httpOnly': False, 'name': 'mid', 'path': '/', 'secure': True, 'value': 'Y7khPAAEAAFJXldAmYCpOod1AVML'}, {'domain': '.instagram.com', 'expiry': 1673681865, 'httpOnly': False, 'name': 'dpr', 'path': '/', 'sameSite': 'None', 'secure': True, 'value': '2'}]\n"
     ]
    }
   ],
   "source": [
    "import json\n",
    "cookie=driver.get_cookies()\n",
    "print(cookie)\n",
    "jsoncookie=json.dumps(cookie)\n",
    "with open (\"ig.json\",\"w\") as f :\n",
    "    f.write(jsoncookie)"
   ]
  },
  {
   "cell_type": "code",
   "execution_count": 5,
   "id": "764bec62",
   "metadata": {},
   "outputs": [
    {
     "name": "stderr",
     "output_type": "stream",
     "text": [
      "/var/folders/d0/gstvjrv16_l_0pk52fjd4nrw0000gn/T/ipykernel_78207/484835756.py:10: DeprecationWarning: executable_path has been deprecated, please pass in a Service object\n",
      "  driver=webdriver.Chrome(\"/Users/xuan/python/chromedriver.exe\",options=option)\n"
     ]
    }
   ],
   "source": [
    "from selenium import webdriver\n",
    "\n",
    "#關閉網頁通知\n",
    "from selenium.webdriver.chrome.options import Options\n",
    "option=webdriver.ChromeOptions()\n",
    "prefs={\"profile.default_content_setting_values\":{\"notifications\":2}} #通知設定選項：選擇第三個\n",
    "option.add_experimental_option(\"prefs\",prefs)\n",
    "\n",
    "#導入網頁 \n",
    "driver=webdriver.Chrome(\"/Users/xuan/python/chromedriver.exe\",options=option)\n",
    "driver.get(\"https://www.instagram.com\")\n",
    "\n",
    "f1=open(\"ig.json\")\n",
    "cookies=json.loads(f1.read())\n",
    "for c in cookies :\n",
    "    driver.add_cookie(c)\n",
    "f1.close()\n",
    "driver.refresh()"
   ]
  },
  {
   "cell_type": "code",
   "execution_count": null,
   "id": "d79ccfd8",
   "metadata": {},
   "outputs": [],
   "source": [
    "from selenium import webdriver\n",
    "import time\n",
    "import requests\n",
    "import shutil\n",
    "\n",
    "\n",
    "#關閉網頁通知\n",
    "from selenium.webdriver.chrome.options import Options\n",
    "option=webdriver.ChromeOptions()\n",
    "prefs={\"profile.default_content_setting_values\":{\"notifications\":2}} #通知設定選項：選擇第三個\n",
    "option.add_experimental_option(\"prefs\",prefs)\n",
    "\n",
    "#導入網頁 \n",
    "driver=webdriver.Chrome(\"/Users/xuan/python/chromedriver.exe\",options=option)\n",
    "driver.get(\"https://www.google.com\")\n",
    "\n",
    "from selenium.webdriver.support.wait import WebDriverWait\n",
    "from selenium.webdriver.support import expected_conditions as EC\n",
    "from selenium.webdriver.common.by import By\n",
    "from selenium.webdriver.common.keys import Keys\n",
    "\n",
    "search=WebDriverWait(driver,10).until(EC.element_to_be_clickable((By.CSS_SELECTOR,'input[name=\"q\"]')))\n",
    "search.send_keys(\"whale\")\n",
    "webdriver.ActionChains(driver).send_keys(Keys.ENTER).perform()\n",
    "\n",
    "img=WebDriverWait(driver,10).until(EC.element_to_be_clickable((By.CSS_SELECTOR,'a[data-hveid=\"CAEQAw\"]')))\n",
    "img.click()\n",
    "\n",
    "tool=WebDriverWait(driver,10).until(EC.element_to_be_clickable((By.CSS_SELECTOR,'div[aria-haspopup=\"menu\"]')))\n",
    "tool.click()\n",
    "\n",
    "size=WebDriverWait(driver,10).until(EC.element_to_be_clickable((By.CSS_SELECTOR,'div[class=\"xFo9P r9PaP\"]')))\n",
    "size.click()\n",
    "\n",
    "big=WebDriverWait(driver,10).until(EC.element_to_be_clickable((By.CSS_SELECTOR,'a[aria-label=\"大\"]')))\n",
    "big.click()\n",
    "\n",
    "lis=[]\n",
    "\n",
    "for i in range(1,20) :\n",
    "    time.sleep(1)\n",
    "    \n",
    "    try:\n",
    "        driver.find_element(By.XPATH,'//*[@id=\"islrg\"]/div[1]/div['+str(i)+']/a[1]/div[1]/img').click()\n",
    "        ww=driver.find_element(By.XPATH,'//*[@id=\"Sva75c\"]/div[2]/div/div[2]/div[2]/div[2]/c-wiz/div[2]/div[1]/div[1]/div[2]/div/a/img')\n",
    "        ss=ww.get_attribute(\"src\")\n",
    "        \n",
    "        if ss.startswith(\"http\"):\n",
    "            print(ss,i)\n",
    "            lis.append(ss)\n",
    "    \n",
    "    except:\n",
    "        pass\n",
    "    \n",
    "driver.quit()\n",
    "\n",
    "\n",
    "import os\n",
    "import wget\n",
    "\n",
    "#開新資料夾\n",
    "path=os.getcwd() #抓取現在的位置\n",
    "path =os.path.join(path,\"whale\") #設置名稱為“”whale\n",
    "os.mkdir(path) #新增資料夾 \n",
    "path #像是return回傳值 為告知路徑位置 可不打\n",
    "\n",
    "\n",
    "count=1\n",
    "for pic in lis :\n",
    "    try :\n",
    "        save_as =os.path.join(path,str(count)+\".jpg\")\n",
    "        wget.download(pic,save_as)\n",
    "        print(save_as)\n",
    "        count+=1\n",
    "    except :\n",
    "        print(\"erro\")\n",
    "        count+=1\n",
    "        \n",
    "\n",
    "            \n",
    "print(\"done\")"
   ]
  },
  {
   "cell_type": "code",
   "execution_count": null,
   "id": "d6a6e7fd",
   "metadata": {},
   "outputs": [],
   "source": [
    "import os\n",
    "import wget\n",
    "\n",
    "#開新資料夾\n",
    "path=os.getcwd() \n",
    "path =os.path.join(path,\"whale\")\n",
    "os.mkdir(path)\n",
    "path\n",
    "\n",
    "\n",
    "count=1\n",
    "for pic in lis :\n",
    "    try :\n",
    "        save_as =os.path.join(path,str(counter)+\".jpg\")\n",
    "        weg.download(pic,save_as)\n",
    "        print(save_as)\n",
    "        count+=1\n",
    "    except :\n",
    "        print(\"erro\")\n",
    "        count+=1\n",
    "        continue\n",
    "    \n",
    "    \n",
    "        \n",
    "        "
   ]
  },
  {
   "cell_type": "code",
   "execution_count": null,
   "id": "0664f869",
   "metadata": {},
   "outputs": [],
   "source": [
    "n=0\n",
    "for img in lis :\n",
    "\n",
    "    try :\n",
    "        n+=1\n",
    "        fname=\"/Users/xuan/python/imgdownload/whale\"+str(n)+\".jpg\"\n",
    "\n",
    "        with open(fname,\"wb\") as f:             \n",
    "\n",
    "            shutil.copyfileobj(img.raw,f)  \n",
    "    except :\n",
    "        pass"
   ]
  },
  {
   "cell_type": "code",
   "execution_count": null,
   "id": "8d0ab8cc",
   "metadata": {},
   "outputs": [],
   "source": [
    "from selenium import webdriver\n",
    "import time\n",
    "import requests\n",
    "import shutil\n",
    "\n",
    "\n",
    "#關閉網頁通知\n",
    "from selenium.webdriver.chrome.options import Options\n",
    "option=webdriver.ChromeOptions()\n",
    "prefs={\"profile.default_content_setting_values\":{\"notifications\":2}} #通知設定選項：選擇第三個\n",
    "option.add_experimental_option(\"prefs\",prefs)\n",
    "\n",
    "#導入網頁 \n",
    "driver=webdriver.Chrome(\"/Users/xuan/python/chromedriver.exe\",options=option)\n",
    "driver.get(\"https://artemperor.tw/\")\n",
    " \n",
    "driver.execute_script(\"window.scrollTo(0,document.body.scrollHeight)\") "
   ]
  },
  {
   "cell_type": "code",
   "execution_count": null,
   "id": "257d2018",
   "metadata": {},
   "outputs": [],
   "source": [
    "i=0\n",
    "while i<4 :\n",
    "    print(i,0)\n",
    "    i+=1\n",
    "    if i==1 : \n",
    "        pass #通過並繼續以下動作\n",
    "        print(\"pass\")\n",
    "        \n",
    "    elif i==2 :\n",
    "        print(\"n\")\n",
    "        \n",
    "    elif i==3 :\n",
    "        continue #跳過以下動作並從下一輪判斷繼續\n",
    "        print(\"continue\")\n",
    "\n",
    "    print(i) #預設每判斷一次就顯示當回合數"
   ]
  },
  {
   "cell_type": "code",
   "execution_count": null,
   "id": "4b91c91d",
   "metadata": {},
   "outputs": [],
   "source": [
    "q=[\"0123\",\"234\",\"abj4\",\"0wer\"]\n",
    "\n",
    "#原始\n",
    "list2=[]\n",
    "for ss in q:\n",
    "    if ss.startswith(\"0\") :\n",
    "        list2.append(ss)\n",
    "\n",
    "#縮減後\n",
    "list1=[ss for ss in q if ss.startswith(\"0\")]\n",
    "\n",
    "\n",
    "print(list1)\n",
    "print(list2)"
   ]
  }
 ],
 "metadata": {
  "kernelspec": {
   "display_name": "Python 3 (ipykernel)",
   "language": "python",
   "name": "python3"
  },
  "language_info": {
   "codemirror_mode": {
    "name": "ipython",
    "version": 3
   },
   "file_extension": ".py",
   "mimetype": "text/x-python",
   "name": "python",
   "nbconvert_exporter": "python",
   "pygments_lexer": "ipython3",
   "version": "3.9.15"
  }
 },
 "nbformat": 4,
 "nbformat_minor": 5
}
