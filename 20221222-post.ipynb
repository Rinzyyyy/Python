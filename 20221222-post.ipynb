{
 "cells": [
  {
   "cell_type": "code",
   "execution_count": 5,
   "id": "33356c1d",
   "metadata": {},
   "outputs": [
    {
     "name": "stdout",
     "output_type": "stream",
     "text": [
      "GA網站數據分析暨GAds關鍵字廣告投放班第02期\n",
      "(臺北市網路購物服務人員職業工會)\n",
      "LabVIEW物聯網生產管理實務班\n",
      "(亞東學校財團法人亞東科技大學)\n",
      "商業智慧大數據資料圖形化設計班第01期\n",
      "(社團法人新竹市職訓教育協會)\n",
      "企業大數據分析與產業智慧基礎班第02期\n",
      "(財團法人中國生產力中心附設中區服務處)\n",
      "Raspberry Pi 樹莓派GPIO與Python應用班第03期\n",
      "(社團法人高雄市企業管理交流協會)\n",
      "智慧大數據分析Power BI Desktop實務活用班第01期\n",
      "(財團法人中國生產力中心附設台南服務處)\n",
      "數據流程自動化智能應用班第02期\n",
      "(國立中興大學)\n",
      "Power BI商業智慧數據分析實務班第01期\n",
      "(精誠資訊股份有限公司附設職業訓練中心)\n",
      "物聯網大數據資料分析應用班第01期\n",
      "(社團法人中華成人教育認證協會)\n",
      "Python大數據資料分析統計應用實務班第02期\n",
      "(財團法人成大研究發展基金會)\n"
     ]
    }
   ],
   "source": [
    "#網頁request為post時，需使用request.post(\"url\",Form Data)\n",
    "\n",
    "import requests\n",
    "from bs4 import BeautifulSoup\n",
    "\n",
    "#檢查-Network-重整-主網址(通常為第一個)-header裡的request method :post-查看payload-複製form data 裡的所有東西\n",
    "fd={\"Form.IsHomeSearch\": \"Y\",\n",
    "    \"Form.PlanType\": 1,\n",
    "    \"Form.KEYWORDS\": \"大數據\",\n",
    "    \"Form.CTID\": None,\n",
    "    \"btnSch\": \"查詢\",\n",
    "    \"__SECURITY_FORM_ID__\": \"MkaBRmuqHClN7Ea4fOCQX/Qp81x7WeK40T2adQ72GYc=\"}\n",
    "\n",
    "res=requests.post(\"https://ojt.wda.gov.tw/ClassSearch\",fd)\n",
    "soup=BeautifulSoup(res.text)\n",
    "\n",
    "for course in soup.find_all(\"td\",headers=\"tb1-b\") :\n",
    "    print(course.a.text)"
   ]
  }
 ],
 "metadata": {
  "kernelspec": {
   "display_name": "Python 3 (ipykernel)",
   "language": "python",
   "name": "python3"
  },
  "language_info": {
   "codemirror_mode": {
    "name": "ipython",
    "version": 3
   },
   "file_extension": ".py",
   "mimetype": "text/x-python",
   "name": "python",
   "nbconvert_exporter": "python",
   "pygments_lexer": "ipython3",
   "version": "3.9.15"
  }
 },
 "nbformat": 4,
 "nbformat_minor": 5
}
